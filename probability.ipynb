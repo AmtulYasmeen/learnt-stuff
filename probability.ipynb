{
  "nbformat": 4,
  "nbformat_minor": 0,
  "metadata": {
    "colab": {
      "name": "probability.ipynb",
      "provenance": [],
      "authorship_tag": "ABX9TyPSbTxK38Xo+rsUWVumENss",
      "include_colab_link": true
    },
    "kernelspec": {
      "name": "python3",
      "display_name": "Python 3"
    },
    "language_info": {
      "name": "python"
    }
  },
  "cells": [
    {
      "cell_type": "markdown",
      "metadata": {
        "id": "view-in-github",
        "colab_type": "text"
      },
      "source": [
        "<a href=\"https://colab.research.google.com/github/AmtulYasmeen/learnt-stuff/blob/main/probability.ipynb\" target=\"_parent\"><img src=\"https://colab.research.google.com/assets/colab-badge.svg\" alt=\"Open In Colab\"/></a>"
      ]
    },
    {
      "cell_type": "markdown",
      "metadata": {
        "id": "zxsh1j2SRfix"
      },
      "source": [
        "#Probability"
      ]
    },
    {
      "cell_type": "markdown",
      "metadata": {
        "id": "Bsef0OrHRbE2"
      },
      "source": [
        "#Bernoulli random experiment"
      ]
    },
    {
      "cell_type": "code",
      "metadata": {
        "id": "KSVVvqlPRB3O"
      },
      "source": [
        "from scipy.stats import bernoulli"
      ],
      "execution_count": 1,
      "outputs": []
    },
    {
      "cell_type": "code",
      "metadata": {
        "colab": {
          "base_uri": "https://localhost:8080/"
        },
        "id": "CLaHxQnnRd5a",
        "outputId": "b2e43f74-4909-46a8-a626-fb524c7e0882"
      },
      "source": [
        "bernoulli.rvs(p=0.5, size = 1)\n"
      ],
      "execution_count": 4,
      "outputs": [
        {
          "output_type": "execute_result",
          "data": {
            "text/plain": [
              "array([0])"
            ]
          },
          "metadata": {
            "tags": []
          },
          "execution_count": 4
        }
      ]
    },
    {
      "cell_type": "code",
      "metadata": {
        "colab": {
          "base_uri": "https://localhost:8080/"
        },
        "id": "leoSlMgYSZmu",
        "outputId": "50aec136-6df0-412c-db30-a989f9cb4e15"
      },
      "source": [
        "# Simulate one coin flip with 35% chance of getting heads\n",
        "coin_flip = bernoulli.rvs(p=0.35, size=1)\n",
        "print(coin_flip)"
      ],
      "execution_count": 8,
      "outputs": [
        {
          "output_type": "stream",
          "text": [
            "[1]\n"
          ],
          "name": "stdout"
        }
      ]
    },
    {
      "cell_type": "code",
      "metadata": {
        "colab": {
          "base_uri": "https://localhost:8080/"
        },
        "id": "AbIPabu1Rwdl",
        "outputId": "decf6782-65c9-4985-a07a-0b0971b1e8d2"
      },
      "source": [
        "# no of heads\n",
        "sum(bernoulli.rvs(p=0.5, size =10))"
      ],
      "execution_count": 7,
      "outputs": [
        {
          "output_type": "execute_result",
          "data": {
            "text/plain": [
              "6"
            ]
          },
          "metadata": {
            "tags": []
          },
          "execution_count": 7
        }
      ]
    },
    {
      "cell_type": "code",
      "metadata": {
        "colab": {
          "base_uri": "https://localhost:8080/"
        },
        "id": "L39P3G9TRwbm",
        "outputId": "96f80707-19a8-44dd-f3fd-f9ac97577fd4"
      },
      "source": [
        "# Simulate ten coin flips and get the number of heads\n",
        "ten_coin_flips = bernoulli.rvs(p=0.35, size=10)\n",
        "coin_flips_sum = sum(ten_coin_flips)\n",
        "print(coin_flips_sum)"
      ],
      "execution_count": 5,
      "outputs": [
        {
          "output_type": "execute_result",
          "data": {
            "text/plain": [
              "array([0, 0, 1, 1, 1, 1, 1, 1, 1, 0])"
            ]
          },
          "metadata": {
            "tags": []
          },
          "execution_count": 5
        }
      ]
    },
    {
      "cell_type": "code",
      "metadata": {
        "colab": {
          "base_uri": "https://localhost:8080/"
        },
        "id": "uQUFqqT-RwgQ",
        "outputId": "9253c3a8-e55d-4011-fcf9-12bdd5b72665"
      },
      "source": [
        "# a sequence of independent bernouli trial follows binomial distribution\n",
        "from scipy.stats import binom\n",
        "import numpy as np\n",
        "\n",
        "# n : no. of draws of the same expermt\n",
        "\n",
        "binom.rvs(n=10, p=0.5, size=1, random_state = 42)"
      ],
      "execution_count": 9,
      "outputs": [
        {
          "output_type": "execute_result",
          "data": {
            "text/plain": [
              "array([4])"
            ]
          },
          "metadata": {
            "tags": []
          },
          "execution_count": 9
        }
      ]
    },
    {
      "cell_type": "code",
      "metadata": {
        "id": "vN98ZfoRRwig"
      },
      "source": [
        "# Set the random seed to reproduce the results\n",
        "np.random.seed(42)"
      ],
      "execution_count": 10,
      "outputs": []
    },
    {
      "cell_type": "code",
      "metadata": {
        "colab": {
          "base_uri": "https://localhost:8080/"
        },
        "id": "UauoPQLCRwk6",
        "outputId": "ecdbd720-2162-4506-914e-c234aaf43f0d"
      },
      "source": [
        "# Simulate 20 trials of 10 coin flips \n",
        "draws = binom.rvs(n=10, p=0.35, size=20)\n",
        "print(draws)"
      ],
      "execution_count": 11,
      "outputs": [
        {
          "output_type": "stream",
          "text": [
            "[3 6 4 4 2 2 1 5 4 4 1 6 5 2 2 2 3 4 3 3]\n"
          ],
          "name": "stdout"
        }
      ]
    },
    {
      "cell_type": "code",
      "metadata": {
        "id": "5PHCvp9XRwni"
      },
      "source": [
        "\"\"\"there r 2 important function useful for probalility\n",
        "1. the probalility mass function (descrete random variable:with finite num of outcomes) :binomial prob mass func(only 2 outcomes)\n",
        "\n",
        "binomail prob mass func.\n",
        "binomial.pmf(k,n,p) = (n ) p^k (1-p)^n-k\n",
        "                      (k )\n",
        "\n",
        "# Probability of 2 heads after 10 throws with a fair coin\n",
        "binom.pmf(k=2,n=10,p=0.5)\n",
        "............................................................\n",
        "CDF:binomail prob cumulative distribution func.\n",
        "\n",
        "Adding the probabilities of mass func gives us cumulative distritn func\n",
        "with cdf we get RANGE of probabilities rather THAN prob of SINGLE event\n",
        "\n",
        "# cdf 2. cumulative distribution func\n",
        "\n",
        "binomial.cdf(k,n,p) = (n ) p^0 (1-p)^n-0  + (n ) p^1 (1-p)^n-1 + (n) p^k (1-p)^n-k\n",
        "                      (0 )                  (1 )                 (k)\n",
        "                      \n",
        "# Probability of 5 heads or less after 10 throws with a fair coin\n",
        "binom.cdf(k=5, n=10, p=0.5)\n",
        ".........................................................\n",
        "\n",
        "# Probability of more than 59 heads after 100 throws with p=0.7\n",
        "1-binom.cdf(k=59, n=100, p=0.7)\n",
        "........................................................\n",
        "or....\n",
        "\n",
        "# sf:survival function: gives complement probability or tail prob, ie prob of k heads or more \n",
        "# =1-binom.cdf or \n",
        "binom.sf(k=59,n=100,p=0.7)\n"
      ],
      "execution_count": null,
      "outputs": []
    },
    {
      "cell_type": "code",
      "metadata": {
        "colab": {
          "base_uri": "https://localhost:8080/"
        },
        "id": "6t3a4KS3RwrR",
        "outputId": "2080a5e8-7f10-4c83-9908-236523c5cf29"
      },
      "source": [
        "# Probability of getting exactly 1 defective component, in 50 samples, with 2% defect rate ie p=0.02\n",
        "\n",
        "prob_one_defect = binom.pmf(k=1, n=50, p=0.02)\n",
        "print(prob_one_defect)\n"
      ],
      "execution_count": 12,
      "outputs": [
        {
          "output_type": "stream",
          "text": [
            "0.37160171437461204\n"
          ],
          "name": "stdout"
        }
      ]
    },
    {
      "cell_type": "code",
      "metadata": {
        "colab": {
          "base_uri": "https://localhost:8080/"
        },
        "id": "_RM0lVUvYgI2",
        "outputId": "705e04d4-b248-4ebe-bb37-f51327c04aea"
      },
      "source": [
        "# Probability of not getting any defective components\n",
        "prob_no_defects = binom.pmf(k=0, n=50, p=0.02)\n",
        "print(prob_no_defects)"
      ],
      "execution_count": 14,
      "outputs": [
        {
          "output_type": "stream",
          "text": [
            "0.3641696800871171\n"
          ],
          "name": "stdout"
        }
      ]
    },
    {
      "cell_type": "code",
      "metadata": {
        "colab": {
          "base_uri": "https://localhost:8080/"
        },
        "id": "vDJwNk-6YNLg",
        "outputId": "40ed11d9-5432-40a8-a77f-e195386eba3b"
      },
      "source": [
        "# Probability of getting 2 or less defective components\n",
        "prob_two_or_less_defects = binom.cdf(k=2, n=50, p=0.02)\n",
        "print(prob_two_or_less_defects)"
      ],
      "execution_count": 13,
      "outputs": [
        {
          "output_type": "stream",
          "text": [
            "0.9215722516490308\n"
          ],
          "name": "stdout"
        }
      ]
    },
    {
      "cell_type": "code",
      "metadata": {
        "colab": {
          "base_uri": "https://localhost:8080/"
        },
        "id": "rFtH-7YeY9wr",
        "outputId": "26e9fbda-d22e-4644-d003-455c7bdfa752"
      },
      "source": [
        "# Probability of getting 2 or more defective components\n",
        "prob_two_or_less_defects = binom.sf(k=2, n=50, p=0.02)\n",
        "print(prob_two_or_less_defects)"
      ],
      "execution_count": 19,
      "outputs": [
        {
          "output_type": "stream",
          "text": [
            "0.07842774835096906\n"
          ],
          "name": "stdout"
        }
      ]
    },
    {
      "cell_type": "code",
      "metadata": {
        "colab": {
          "base_uri": "https://localhost:8080/"
        },
        "id": "saFmnOBtYn8d",
        "outputId": "33624a07-6cfe-41fd-cd12-8cc15ecc5b45"
      },
      "source": [
        "# Calculate the probability of getting exactly 3 yes responses\n",
        "prob_three_yes = binom.pmf(k=3, n=8, p=0.65)\n",
        "print(prob_three_yes)"
      ],
      "execution_count": 21,
      "outputs": [
        {
          "output_type": "stream",
          "text": [
            "0.08077339156249996\n"
          ],
          "name": "stdout"
        }
      ]
    },
    {
      "cell_type": "code",
      "metadata": {
        "colab": {
          "base_uri": "https://localhost:8080/"
        },
        "id": "B87LJE0YYoHQ",
        "outputId": "fdb5c53b-c8c2-45ab-ffaf-3f13a471b466"
      },
      "source": [
        "# Calculate the probability of getting 3 or less no responses\n",
        "prob_three_or_less_no = 1-binom.cdf(k=3, n=8, p=0.65)\n",
        "print(prob_three_or_less_no)"
      ],
      "execution_count": 22,
      "outputs": [
        {
          "output_type": "stream",
          "text": [
            "0.8939090951171875\n"
          ],
          "name": "stdout"
        }
      ]
    },
    {
      "cell_type": "code",
      "metadata": {
        "colab": {
          "base_uri": "https://localhost:8080/"
        },
        "id": "t8cOOwZYYtDx",
        "outputId": "71e23cb2-9a02-4a88-cd5a-8c07b3fac90a"
      },
      "source": [
        "# Calculate the probability of getting more than 3 yes responses\n",
        "prob_more_than_three_yes = binom.sf(k=3, n=8, p=0.65)\n",
        "print(prob_more_than_three_yes)"
      ],
      "execution_count": 18,
      "outputs": [
        {
          "output_type": "stream",
          "text": [
            "0.8939090951171875\n"
          ],
          "name": "stdout"
        }
      ]
    },
    {
      "cell_type": "code",
      "metadata": {
        "colab": {
          "base_uri": "https://localhost:8080/"
        },
        "id": "y3ChnfA3YtW2",
        "outputId": "545a0d92-0596-489b-fcbe-112efa077a3d"
      },
      "source": [
        "# What is the probability of solving 4 burglaries?\n",
        "four_solved = binom.pmf(k=4, n=9, p=.2)\n",
        "print(four_solved)"
      ],
      "execution_count": 23,
      "outputs": [
        {
          "output_type": "stream",
          "text": [
            "0.06606028799999998\n"
          ],
          "name": "stdout"
        }
      ]
    },
    {
      "cell_type": "code",
      "metadata": {
        "colab": {
          "base_uri": "https://localhost:8080/"
        },
        "id": "QVfVHt-QZqIQ",
        "outputId": "cc4229ed-324c-437a-98f5-7c3a7422cb0a"
      },
      "source": [
        "# What is the probability of solving more than 3 burglaries?\n",
        "more_than_three_solved = binom.sf(k=3, n=9, p=0.2)\n",
        "print(more_than_three_solved)"
      ],
      "execution_count": 24,
      "outputs": [
        {
          "output_type": "stream",
          "text": [
            "0.08564172800000006\n"
          ],
          "name": "stdout"
        }
      ]
    },
    {
      "cell_type": "code",
      "metadata": {
        "colab": {
          "base_uri": "https://localhost:8080/"
        },
        "id": "FlbzxMVhZqOj",
        "outputId": "646c178c-0db5-47ca-8baf-e35bc23dc657"
      },
      "source": [
        "# What is the probability of solving 2 or 3 burglaries?\n",
        "two_or_three_solved = binom.pmf(k=2, n=9, p=0.2) + binom.pmf(k=3, n=9, p=0.2)\n",
        "print(two_or_three_solved)"
      ],
      "execution_count": 25,
      "outputs": [
        {
          "output_type": "stream",
          "text": [
            "0.47815065599999973\n"
          ],
          "name": "stdout"
        }
      ]
    },
    {
      "cell_type": "code",
      "metadata": {
        "colab": {
          "base_uri": "https://localhost:8080/"
        },
        "id": "yY5MEhCGZ4EJ",
        "outputId": "48a5be02-ab83-40e9-c86a-f5715f5943cf"
      },
      "source": [
        "# What is the probability of solving 1 or fewer or more than 7 burglaries?\n",
        "tail_probabilities = binom.cdf(k=1,n=9,p=0.2) + binom.sf(k=7,n=9,p=0.2)\n",
        "print(tail_probabilities)\n"
      ],
      "execution_count": 26,
      "outputs": [
        {
          "output_type": "stream",
          "text": [
            "0.43622655999999993\n"
          ],
          "name": "stdout"
        }
      ]
    },
    {
      "cell_type": "markdown",
      "metadata": {
        "id": "Dn2I5stQZ77C"
      },
      "source": [
        "#Expect value , mean and variance"
      ]
    },
    {
      "cell_type": "code",
      "metadata": {
        "id": "5Es0QKa5ZqZ9"
      },
      "source": [
        "# expected value: its a value where the probability is concentrated when you repeat the expermnt\n",
        "# for discrete RV, \n",
        "# the expected value is the sum of the possible outcomes weighted by their Probability\n",
        "# to cal. expected value each outcome is multiplied by its probabilty and\n",
        "# the products are summed\n",
        "\n",
        "# The expected value of a discrete random variable is the sum ofthe possible outcomes weighted by their\n",
        "# probability\n",
        "\n",
        "E(X) =sum of product of x, p from i=1to k    =    x 1p1 + x2 p2 + ⋯+ xk pk\n",
        "\n",
        "\n",
        "# mean\n",
        "# sum of each outcome divided by no of samples\n",
        "# mean converges to expected value as no of exp increases\n",
        "# this is the law of large numbers"
      ],
      "execution_count": null,
      "outputs": []
    },
    {
      "cell_type": "code",
      "metadata": {
        "id": "lDF91h7BapZx"
      },
      "source": [
        "import scipy"
      ],
      "execution_count": 29,
      "outputs": []
    },
    {
      "cell_type": "code",
      "metadata": {
        "colab": {
          "base_uri": "https://localhost:8080/"
        },
        "id": "WznwHH95aRYq",
        "outputId": "9e55f42b-656e-4d44-cfa2-f9aa5873ff48"
      },
      "source": [
        "# mean\n",
        "from scipy.stats import describe\n",
        "# scipy.stats.describe()\n",
        "\n",
        "describe([0,1]).mean"
      ],
      "execution_count": 32,
      "outputs": [
        {
          "output_type": "execute_result",
          "data": {
            "text/plain": [
              "0.5"
            ]
          },
          "metadata": {
            "tags": []
          },
          "execution_count": 32
        }
      ]
    },
    {
      "cell_type": "code",
      "metadata": {
        "colab": {
          "base_uri": "https://localhost:8080/"
        },
        "id": "TvPBVc9lYNQ6",
        "outputId": "8f0806a3-4ca2-4b9f-f493-38a36df7a250"
      },
      "source": [
        "# variance\n",
        "# it measures how concentrated or spreadout from the expected value the data is\n",
        "\n",
        "describe([0,1]).variance"
      ],
      "execution_count": 33,
      "outputs": [
        {
          "output_type": "execute_result",
          "data": {
            "text/plain": [
              "0.5"
            ]
          },
          "metadata": {
            "tags": []
          },
          "execution_count": 33
        }
      ]
    },
    {
      "cell_type": "code",
      "metadata": {
        "colab": {
          "base_uri": "https://localhost:8080/"
        },
        "id": "8r79H81oYNVN",
        "outputId": "ce7112ee-a886-4472-e23c-be2cdf5a09a7"
      },
      "source": [
        "# in binomial disb. the expected value is the product of no. of coin flips n and the prob of getting heads p\n",
        "# E(X)=np\n",
        "# variance is product of expected value and the probability of failure(not getting heads)\n",
        "# Var(X)=np(1-p)\n",
        "\n",
        "binom.stats(n=1,p=0.5)#expected value n, var for 1 fair coin flip\n",
        "0.5,0.25\n"
      ],
      "execution_count": 34,
      "outputs": [
        {
          "output_type": "execute_result",
          "data": {
            "text/plain": [
              "(0.5, 0.25)"
            ]
          },
          "metadata": {
            "tags": []
          },
          "execution_count": 34
        }
      ]
    },
    {
      "cell_type": "code",
      "metadata": {
        "colab": {
          "base_uri": "https://localhost:8080/"
        },
        "id": "OqvpSaRuYNbB",
        "outputId": "db8a407c-6fb9-4b8c-b715-21c66997fe5b"
      },
      "source": [
        "# EV 1 flip, 30% prob of heads\n",
        "binom.stats(n=1, p=0.3)\n",
        "0.3, 0.21"
      ],
      "execution_count": 35,
      "outputs": [
        {
          "output_type": "execute_result",
          "data": {
            "text/plain": [
              "(0.3, 0.21)"
            ]
          },
          "metadata": {
            "tags": []
          },
          "execution_count": 35
        }
      ]
    },
    {
      "cell_type": "code",
      "metadata": {
        "colab": {
          "base_uri": "https://localhost:8080/"
        },
        "id": "wQn5hLX5cZqM",
        "outputId": "4c2f2163-93a8-4723-d4fc-5781fd53ae0b"
      },
      "source": [
        "# import scipy.stats\n",
        "# Sample mean from a generated sample of 100 fair coin flips\n",
        "sample_of_100_flips = binom.rvs(n=1, p=0.5, size=100)\n",
        "sample_mean_100_flips = scipy.stats.describe(sample_of_100_flips).mean\n",
        "print(sample_mean_100_flips)"
      ],
      "execution_count": 36,
      "outputs": [
        {
          "output_type": "stream",
          "text": [
            "0.49\n"
          ],
          "name": "stdout"
        }
      ]
    },
    {
      "cell_type": "code",
      "metadata": {
        "colab": {
          "base_uri": "https://localhost:8080/"
        },
        "id": "WIV5mdVmcZy1",
        "outputId": "cd8cab9d-f256-43bc-d1af-ee43c9f568e0"
      },
      "source": [
        "# Sample mean from a generated sample of 1,000 fair coin flips\n",
        "sample_mean_1000_flips = describe(binom.rvs(n=1, p=0.5, size=1000)).mean\n",
        "print(sample_mean_1000_flips)"
      ],
      "execution_count": 37,
      "outputs": [
        {
          "output_type": "stream",
          "text": [
            "0.503\n"
          ],
          "name": "stdout"
        }
      ]
    },
    {
      "cell_type": "code",
      "metadata": {
        "colab": {
          "base_uri": "https://localhost:8080/"
        },
        "id": "-4UfD5xpcrdc",
        "outputId": "99c30fb2-a5e1-4b7a-8011-cb12c72389e0"
      },
      "source": [
        "# Sample mean from a generated sample of 2,000 fair coin flips\n",
        "sample_mean_2000_flips = describe(binom.rvs(n=1, p=0.5, size=2000)).mean\n",
        "print(sample_mean_2000_flips)\n"
      ],
      "execution_count": 38,
      "outputs": [
        {
          "output_type": "stream",
          "text": [
            "0.505\n"
          ],
          "name": "stdout"
        }
      ]
    },
    {
      "cell_type": "code",
      "metadata": {
        "colab": {
          "base_uri": "https://localhost:8080/"
        },
        "id": "OTJwBDRBcybW",
        "outputId": "0aa16321-0467-4b56-ff0a-b1cf79592081"
      },
      "source": [
        "sample = binom.rvs(n=10, p=0.3, size=2000)\n",
        "\n",
        "# Calculate the sample mean and variance from the sample variable\n",
        "sample_describe = describe(sample)\n",
        "sample_describe"
      ],
      "execution_count": 40,
      "outputs": [
        {
          "output_type": "execute_result",
          "data": {
            "text/plain": [
              "DescribeResult(nobs=2000, minmax=(0, 8), mean=2.9835, variance=2.0872713856928464, skewness=0.3065650048779836, kurtosis=-0.15140743984356275)"
            ]
          },
          "metadata": {
            "tags": []
          },
          "execution_count": 40
        }
      ]
    },
    {
      "cell_type": "code",
      "metadata": {
        "id": "P4vKl6TDcynC"
      },
      "source": [
        "# Calculate the sample mean using the values of n and p\n",
        "mean = 10*0.3\n",
        "\n",
        "# Calculate the sample variance using the value of 1-p\n",
        "variance = mean*(1-0.3)\n"
      ],
      "execution_count": 41,
      "outputs": []
    },
    {
      "cell_type": "code",
      "metadata": {
        "colab": {
          "base_uri": "https://localhost:8080/"
        },
        "id": "n1eVmmBEdG5U",
        "outputId": "0e510593-ec75-4691-c2e3-f914bc61551f"
      },
      "source": [
        "# Calculate the sample mean and variance for 10 coin flips with p=0.3\n",
        "binom_stats = binom.stats(n=10, p=0.3)\n",
        "\n",
        "print(sample_describe.mean, sample_describe.variance, mean, variance, binom_stats)\n"
      ],
      "execution_count": 42,
      "outputs": [
        {
          "output_type": "stream",
          "text": [
            "2.9835 2.0872713856928464 3.0 2.0999999999999996 (array(3.), array(2.1))\n"
          ],
          "name": "stdout"
        }
      ]
    },
    {
      "cell_type": "code",
      "metadata": {
        "id": "W9H_afmzcy-c"
      },
      "source": [
        "averages =  []\n",
        "variances = []\n",
        "for i in range(0, 1500):\n",
        "    # 10 trials of 10 coin flips with 25% probability of heads\n",
        "    sample = binom.rvs(n=10, p=0.25, size=10)\n",
        "    # Mean and variance of the values in the sample variable\n",
        "    averages.append(describe(sample).mean)\n",
        "    variances.append(describe(sample).variance)"
      ],
      "execution_count": 43,
      "outputs": []
    },
    {
      "cell_type": "code",
      "metadata": {
        "colab": {
          "base_uri": "https://localhost:8080/"
        },
        "id": "v6mUM2aMdXQh",
        "outputId": "693a08be-8266-4264-a54f-47afa9d4fda2"
      },
      "source": [
        "# Calculate the mean of the averages variable\n",
        "print(\"Mean {}\".format(describe(averages).mean))"
      ],
      "execution_count": 44,
      "outputs": [
        {
          "output_type": "stream",
          "text": [
            "Mean 2.5087333333333333\n"
          ],
          "name": "stdout"
        }
      ]
    },
    {
      "cell_type": "code",
      "metadata": {
        "colab": {
          "base_uri": "https://localhost:8080/"
        },
        "id": "51ijtq9mdbBh",
        "outputId": "ac933f84-5c0b-4ca7-fc99-a2b28c2c944d"
      },
      "source": [
        "# Calculate the mean and variance\n",
        "print(binom.stats(n=10, p=0.25))"
      ],
      "execution_count": 45,
      "outputs": [
        {
          "output_type": "stream",
          "text": [
            "(array(2.5), array(1.875))\n"
          ],
          "name": "stdout"
        }
      ]
    },
    {
      "cell_type": "markdown",
      "metadata": {
        "id": "zNsOKpUNduSy"
      },
      "source": [
        "#Calculating probabilities of two events"
      ]
    },
    {
      "cell_type": "markdown",
      "metadata": {
        "id": "A2neNuQsd6gV"
      },
      "source": [
        "Independence\n",
        "Given that A and B are events in a random experiment,the conditions for independence ofA and B are:\n",
        "1. The order in which A and B occur does not affect their probabilities.\n",
        "2. IfA occurs,this does not affect the probability of B.\n",
        "3. If B occurs,this does not affect the probability ofA"
      ]
    },
    {
      "cell_type": "code",
      "metadata": {
        "id": "COkjUex9eFsR"
      },
      "source": [
        "# p(A AND B) = p(A) * p(B)"
      ],
      "execution_count": null,
      "outputs": []
    },
    {
      "cell_type": "code",
      "metadata": {
        "id": "DJBvZZdrdkMQ"
      },
      "source": [
        "'''\n",
        "# cal. prob of 2 events\n",
        "# for independentevents we use multiplication rule \n",
        "# to find the prob of 2 event\n",
        "# flipping 2 coins\n",
        "P(A AND B) = P(A) * P(B)\n",
        "\t\t   = 0.5 * 0.5\n",
        "\t\t   0.25\n",
        "\n",
        "'''"
      ],
      "execution_count": null,
      "outputs": []
    },
    {
      "cell_type": "code",
      "metadata": {
        "id": "ayCmqyMeetwR"
      },
      "source": [
        "# generating a sample for 2 fair coin flips\n",
        "from scipy.stats import binom\n",
        "sample = binom.rvs(n=2,p=0.5,size=1000, random_state = 1)\n",
        "sample"
      ],
      "execution_count": null,
      "outputs": []
    },
    {
      "cell_type": "code",
      "metadata": {
        "colab": {
          "base_uri": "https://localhost:8080/"
        },
        "id": "v_dicVCYet2T",
        "outputId": "b5d53509-595e-4ff9-d7ef-d8a7592d8658"
      },
      "source": [
        "# find_repeats : used to count how many times each outcomes repeats\n",
        "from scipy.stats import find_repeats\n",
        "find_repeats(sample)"
      ],
      "execution_count": 57,
      "outputs": [
        {
          "output_type": "execute_result",
          "data": {
            "text/plain": [
              "RepeatedResults(values=array([0., 1., 2.]), counts=array([249, 497, 254]))"
            ]
          },
          "metadata": {
            "tags": []
          },
          "execution_count": 57
        }
      ]
    },
    {
      "cell_type": "code",
      "metadata": {
        "colab": {
          "base_uri": "https://localhost:8080/"
        },
        "id": "3mvWp0ZGfkQ-",
        "outputId": "fa12b5a1-a1d7-46d7-ee23-90b939cc2ab1"
      },
      "source": [
        "# reflative frequency = no of favourable trials /total trials\n",
        "from scipy.stats import relfreq\n",
        "relfreq(sample, numbins=3).frequency"
      ],
      "execution_count": 59,
      "outputs": [
        {
          "output_type": "execute_result",
          "data": {
            "text/plain": [
              "array([0.249, 0.497, 0.254])"
            ]
          },
          "metadata": {
            "tags": []
          },
          "execution_count": 59
        }
      ]
    },
    {
      "cell_type": "code",
      "metadata": {
        "colab": {
          "base_uri": "https://localhost:8080/"
        },
        "id": "vUUQocrfhW_y",
        "outputId": "02fb5f5e-c716-41d1-b81a-a84401cc6a07"
      },
      "source": [
        "# Count how many times you got 2 heads from the sample data\n",
        "count_2_heads = find_repeats(sample).counts[2]\n",
        "\n",
        "# Divide the number of heads by the total number of draws\n",
        "prob_2_heads = count_2_heads / 1000\n",
        "\n",
        "# Display the result\n",
        "print(prob_2_heads)"
      ],
      "execution_count": 62,
      "outputs": [
        {
          "output_type": "stream",
          "text": [
            "0.254\n"
          ],
          "name": "stdout"
        }
      ]
    },
    {
      "cell_type": "code",
      "metadata": {
        "colab": {
          "base_uri": "https://localhost:8080/"
        },
        "id": "dJr_SfBRhrhv",
        "outputId": "3a1ec86a-350f-45d3-d208-80a4719b66c5"
      },
      "source": [
        "# Get the relative frequency from sample_of_two_coin_flips\n",
        "# Set numbins as 3\n",
        "# Extract frequency\n",
        "rel_freq = relfreq(sample, numbins=3).frequency\n",
        "print(rel_freq)\n",
        "\n",
        "\n",
        "# Probability of getting 0, 1, or 2 from the distribution\n",
        "probabilities = binom.pmf([0, 1, 2], n=2, p=0.5)\n",
        "print(probabilities)\n"
      ],
      "execution_count": 64,
      "outputs": [
        {
          "output_type": "stream",
          "text": [
            "[0.249 0.497 0.254]\n",
            "[0.25 0.5  0.25]\n"
          ],
          "name": "stdout"
        }
      ]
    },
    {
      "cell_type": "code",
      "metadata": {
        "id": "p6FhJXg4fkZ9"
      },
      "source": [
        "# Joint probability"
      ],
      "execution_count": null,
      "outputs": []
    },
    {
      "cell_type": "code",
      "metadata": {
        "colab": {
          "base_uri": "https://localhost:8080/"
        },
        "id": "YY-YI_MNfkgk",
        "outputId": "504b6794-cf6c-4e06-e97b-e3865dc87302"
      },
      "source": [
        "# engine failure\n",
        "# assuming independence and finding the prob of both failing\n",
        "# P(A) AND P(B)\n",
        "P_failure_eng = 0.01\n",
        "P_failure_gear = 0.005\n",
        "\n",
        "P_both_Fails = (P_failure_gear * P_failure_eng)\n",
        "P_both_Fails"
      ],
      "execution_count": 60,
      "outputs": [
        {
          "output_type": "execute_result",
          "data": {
            "text/plain": [
              "5e-05"
            ]
          },
          "metadata": {
            "tags": []
          },
          "execution_count": 60
        }
      ]
    },
    {
      "cell_type": "code",
      "metadata": {
        "id": "Czij5UjNgeRy"
      },
      "source": [
        "# P(A) or P(B)\n",
        "# deck of cards 52 cards, \n",
        "# P(A or B) = P(A) + P(B)\n",
        "\t\t  # = 4/52 + 4/52\n",
        "# as no overlap or no common elements or mutually exclusive events\n",
        "\t\t#  =2/13"
      ],
      "execution_count": null,
      "outputs": []
    },
    {
      "cell_type": "code",
      "metadata": {
        "id": "KjldhH8kg6CJ"
      },
      "source": [
        "'''general cal. of probability of A or B\n",
        "# no overlap\n",
        "# either this or that use add\n",
        "P(A or B) = P(A) + P(B)\n",
        "\n",
        "#  with overlapping events not mutually exclusive\n",
        "P(jack) = 4/52 \n",
        "P(heart )= 13/52\n",
        "P(overlap) = P(jack AND heart) = 1/52\n",
        "P(jack or heart) = P(jack) + P(heart) - P(jack AND heart)\n",
        "=4/52+ 13/52 -1/52 \n",
        "=4/13'''"
      ],
      "execution_count": null,
      "outputs": []
    },
    {
      "cell_type": "code",
      "metadata": {
        "colab": {
          "base_uri": "https://localhost:8080/"
        },
        "id": "Ug7kiRrMh15A",
        "outputId": "cae1c10b-39dc-452c-89d5-a5fcd9e9d4b5"
      },
      "source": [
        "# Individual probabilities\n",
        "P_Eng_works = .99\n",
        "P_GearB_works = .995\n",
        "\n",
        "# Joint probability calculation\n",
        "P_both_works = P_Eng_works * P_GearB_works\n",
        "\n",
        "print(P_both_works)\n"
      ],
      "execution_count": 65,
      "outputs": [
        {
          "output_type": "stream",
          "text": [
            "0.98505\n"
          ],
          "name": "stdout"
        }
      ]
    },
    {
      "cell_type": "code",
      "metadata": {
        "colab": {
          "base_uri": "https://localhost:8080/"
        },
        "id": "xVJuulWug6LO",
        "outputId": "feddca3e-ed39-450b-dcee-96bde4d3d0a7"
      },
      "source": [
        "# Individual probabilities\n",
        "P_Eng_fails = 0.01\n",
        "P_Eng_works = 0.99\n",
        "P_GearB_fails = 0.005\n",
        "P_GearB_works = 0.995\n",
        "\n",
        "# Joint probability calculation\n",
        "P_only_GearB_fails = P_GearB_fails*P_Eng_works\n",
        "P_only_Eng_fails = P_GearB_works * P_Eng_fails\n",
        "\n",
        "P_only_GearB_fails , P_only_Eng_fails"
      ],
      "execution_count": 67,
      "outputs": [
        {
          "output_type": "execute_result",
          "data": {
            "text/plain": [
              "(0.00495, 0.00995)"
            ]
          },
          "metadata": {
            "tags": []
          },
          "execution_count": 67
        }
      ]
    },
    {
      "cell_type": "code",
      "metadata": {
        "colab": {
          "base_uri": "https://localhost:8080/"
        },
        "id": "vB4fk_Ufg6UJ",
        "outputId": "4575e60b-7db2-49ca-fbc7-93a398f91a75"
      },
      "source": [
        "# Calculate result\n",
        "P_one_fails = P_only_GearB_fails+P_only_Eng_fails\n",
        "\n",
        "print(P_one_fails)"
      ],
      "execution_count": 68,
      "outputs": [
        {
          "output_type": "stream",
          "text": [
            "0.0149\n"
          ],
          "name": "stdout"
        }
      ]
    },
    {
      "cell_type": "code",
      "metadata": {
        "colab": {
          "base_uri": "https://localhost:8080/"
        },
        "id": "e8-_AWj1g6cx",
        "outputId": "5b1a1391-cf3b-4ca0-cd4e-01580637428f"
      },
      "source": [
        "# Individual probabilities\n",
        "P_Eng_fails = 0.01\n",
        "P_Eng_works = 0.99\n",
        "P_GearB_fails = 0.005\n",
        "P_GearB_works = 0.995\n",
        "\n",
        "# Joint probability calculation\n",
        "P_EngW_GearBW = P_Eng_works * P_GearB_works\n",
        "P_EngF_GearBF = P_Eng_fails * P_GearB_fails\n",
        "\n",
        "# Calculate result\n",
        "P_fails_or_works = P_EngW_GearBW + P_EngF_GearBF\n",
        "\n",
        "print(P_fails_or_works)"
      ],
      "execution_count": 69,
      "outputs": [
        {
          "output_type": "stream",
          "text": [
            "0.9851\n"
          ],
          "name": "stdout"
        }
      ]
    },
    {
      "cell_type": "code",
      "metadata": {
        "colab": {
          "base_uri": "https://localhost:8080/"
        },
        "id": "tbX6Rjzzg6k-",
        "outputId": "dfa6301a-4b7a-49df-cf91-a80e85c4ef75"
      },
      "source": [
        "#  Ace probability\n",
        "P_Ace = 4/52\n",
        "\n",
        "# Not Ace probability\n",
        "P_not_Ace = 1 - P_Ace\n",
        "print(P_not_Ace)"
      ],
      "execution_count": 71,
      "outputs": [
        {
          "output_type": "stream",
          "text": [
            "0.9230769230769231\n"
          ],
          "name": "stdout"
        }
      ]
    },
    {
      "cell_type": "code",
      "metadata": {
        "colab": {
          "base_uri": "https://localhost:8080/"
        },
        "id": "OxtNWVOrjgDZ",
        "outputId": "66e1bad4-3603-4389-caba-5888ea4d671c"
      },
      "source": [
        "# Figure probabilities\n",
        "P_Hearts = 13/52\n",
        "P_Diamonds = 13/52\n",
        "\n",
        "# Probability of red calculation\n",
        "P_Red = P_Hearts + P_Diamonds\n",
        "\n",
        "print(P_Red)"
      ],
      "execution_count": 72,
      "outputs": [
        {
          "output_type": "stream",
          "text": [
            "0.5\n"
          ],
          "name": "stdout"
        }
      ]
    },
    {
      "cell_type": "code",
      "metadata": {
        "colab": {
          "base_uri": "https://localhost:8080/"
        },
        "id": "XwJeDs19jgMK",
        "outputId": "1a576693-9bb3-40b6-d213-90f3974a63d4"
      },
      "source": [
        "# Figure probabilities\n",
        "P_Jack = 4/52\n",
        "P_Spade = 13/52\n",
        "\n",
        "# Joint probability\n",
        "P_Jack_n_Spade = 1/52\n",
        "\n",
        "# Probability of Jack or spade\n",
        "P_Jack_or_Spade = P_Jack + P_Spade - (P_Jack_n_Spade)\n",
        "\n",
        "print(P_Jack_or_Spade)"
      ],
      "execution_count": 73,
      "outputs": [
        {
          "output_type": "stream",
          "text": [
            "0.3076923076923077\n"
          ],
          "name": "stdout"
        }
      ]
    },
    {
      "cell_type": "code",
      "metadata": {
        "colab": {
          "base_uri": "https://localhost:8080/"
        },
        "id": "jucIMd5wj7Pc",
        "outputId": "275352dc-4cfb-4030-9463-b54f4cfbabdd"
      },
      "source": [
        "# Figure probabilities\n",
        "P_King = 4/52\n",
        "P_Queen = 4/52\n",
        "\n",
        "# Joint probability\n",
        "P_King_n_Queen = 0\n",
        "\n",
        "# Probability of King or Queen\n",
        "P_King_or_Queen = P_King + P_Queen - P_King_n_Queen\n",
        "\n",
        "print(P_King_or_Queen)\n"
      ],
      "execution_count": 74,
      "outputs": [
        {
          "output_type": "stream",
          "text": [
            "0.15384615384615385\n"
          ],
          "name": "stdout"
        }
      ]
    },
    {
      "cell_type": "code",
      "metadata": {
        "id": "_tOuxTG4j7Z1"
      },
      "source": [
        "# conditional probabilities\n",
        "\n",
        "# conditional probability\n",
        "\n",
        "# prob picking a jack out of 52 cards\n",
        "\n",
        "P_jack = 4/52\n",
        "\n",
        "# prob of picking 2nd jack out of the 51 cards left\n",
        "P_secondjack = 3/51"
      ],
      "execution_count": 78,
      "outputs": []
    },
    {
      "cell_type": "code",
      "metadata": {
        "id": "eQY6wwsfkGZl"
      },
      "source": [
        "# prob of the 2nd draw of jack depends on 1st card : conditional prob\n",
        "# for independent events \n",
        "# P(A and B) = P(A) * P(B)\n",
        "# for dependent events\n",
        "# P(A and B) = P(A) * P(B/A)\n",
        "# it is = P(A) times P(B) given A occured\n",
        "\n",
        "# P(B given A occured) = joint probability of A and B / P(A)\n",
        "# this is to calc probs in restricted sample space (this is the problty which is given to us)\n"
      ],
      "execution_count": null,
      "outputs": []
    },
    {
      "cell_type": "code",
      "metadata": {
        "id": "_H2lz35kkiPK"
      },
      "source": [
        "'''# calc. the prob of red card given that its a red card\n",
        "\n",
        "P(red/jack) = P(red and jack)/P(jack)\n",
        "\t\t\t= 2/52 / 4/52\n",
        "\t\t\t=2/5\n",
        "P(jack/red) = P(jack and red)/ P(red)\n",
        "\t\t\t=2/52 / 26/52\n",
        "\t\t\t=1/13 \n",
        "      \n",
        "# conditional probabilities allow us to calc. probalilities in reduced or restricted sample space \n",
        "# prob provided to us is used to recalculate the conditional prob\n",
        "'''"
      ],
      "execution_count": null,
      "outputs": []
    },
    {
      "cell_type": "code",
      "metadata": {
        "colab": {
          "base_uri": "https://localhost:8080/"
        },
        "id": "OhRSTZDuk57t",
        "outputId": "caf1d9d8-0cd3-4045-e1bd-e6315b92c6f6"
      },
      "source": [
        "# Needed quantities\n",
        "On_time = 241\n",
        "Total_departures = 276\n",
        "\n",
        "# Probability calculation\n",
        "P_On_time = On_time / Total_departures\n",
        "\n",
        "print(P_On_time)"
      ],
      "execution_count": 79,
      "outputs": [
        {
          "output_type": "stream",
          "text": [
            "0.8731884057971014\n"
          ],
          "name": "stdout"
        }
      ]
    },
    {
      "cell_type": "code",
      "metadata": {
        "colab": {
          "base_uri": "https://localhost:8080/"
        },
        "id": "BRdkH5FQk6Cx",
        "outputId": "70bbfcf4-8503-45e9-a275-b010db024935"
      },
      "source": [
        "# Needed quantities\n",
        "P_On_time = 241 / 276\n",
        "\n",
        "# Probability calculation\n",
        "P_Delayed = 1 - P_On_time\n",
        "\n",
        "print(P_Delayed)"
      ],
      "execution_count": 80,
      "outputs": [
        {
          "output_type": "stream",
          "text": [
            "0.12681159420289856\n"
          ],
          "name": "stdout"
        }
      ]
    },
    {
      "cell_type": "code",
      "metadata": {
        "colab": {
          "base_uri": "https://localhost:8080/"
        },
        "id": "7BbHZDZkk6HL",
        "outputId": "5106fa2f-f5a6-42b7-d4ed-0457fadef901"
      },
      "source": [
        "# Needed quantities\n",
        "Delayed_on_Tuesday = 24\n",
        "On_Tuesday = 138\n",
        "\n",
        "# Probability calculation\n",
        "P_Delayed_g_Tuesday = Delayed_on_Tuesday / On_Tuesday\n",
        "\n",
        "print(P_Delayed_g_Tuesday)"
      ],
      "execution_count": 81,
      "outputs": [
        {
          "output_type": "stream",
          "text": [
            "0.17391304347826086\n"
          ],
          "name": "stdout"
        }
      ]
    },
    {
      "cell_type": "code",
      "metadata": {
        "colab": {
          "base_uri": "https://localhost:8080/"
        },
        "id": "VoY3el3kk6JW",
        "outputId": "6970271e-a2c2-45aa-e3e8-bc8690f4876f"
      },
      "source": [
        "# Needed quantities\n",
        "Delayed_on_Friday = 11\n",
        "On_Friday = 138\n",
        "\n",
        "# Probability calculation\n",
        "P_Delayed_g_Friday = Delayed_on_Friday / On_Friday\n",
        "\n",
        "print(P_Delayed_g_Friday)"
      ],
      "execution_count": 82,
      "outputs": [
        {
          "output_type": "stream",
          "text": [
            "0.07971014492753623\n"
          ],
          "name": "stdout"
        }
      ]
    },
    {
      "cell_type": "code",
      "metadata": {
        "colab": {
          "base_uri": "https://localhost:8080/"
        },
        "id": "WYLKuALMk6NW",
        "outputId": "41513b56-71b8-4094-d9d4-7a0988a76904"
      },
      "source": [
        "# Individual probabilities\n",
        "P_Red = 26/52\n",
        "P_Red_n_Ace = 2/52\n",
        "\n",
        "# Conditional probability calculation\n",
        "P_Ace_given_Red = P_Red_n_Ace/P_Red\n",
        "\n",
        "print(P_Ace_given_Red)"
      ],
      "execution_count": 83,
      "outputs": [
        {
          "output_type": "stream",
          "text": [
            "0.07692307692307693\n"
          ],
          "name": "stdout"
        }
      ]
    },
    {
      "cell_type": "code",
      "metadata": {
        "colab": {
          "base_uri": "https://localhost:8080/"
        },
        "id": "XvURnTQPk6VK",
        "outputId": "a68bbee5-78a0-40da-cd23-f25d27b2787e"
      },
      "source": [
        "# Individual probabilities\n",
        "P_Ace = 4/52\n",
        "P_Ace_n_Black = 2/52\n",
        "\n",
        "# Conditional probability calculation\n",
        "P_Black_given_Ace = P_Ace_n_Black/P_Ace\n",
        "\n",
        "print(P_Black_given_Ace)"
      ],
      "execution_count": 84,
      "outputs": [
        {
          "output_type": "stream",
          "text": [
            "0.5\n"
          ],
          "name": "stdout"
        }
      ]
    },
    {
      "cell_type": "code",
      "metadata": {
        "colab": {
          "base_uri": "https://localhost:8080/"
        },
        "id": "l-jKWykvkGgw",
        "outputId": "3aa7c7ac-e005-40df-8612-933508dead89"
      },
      "source": [
        "# Individual probabilities\n",
        "P_Black = 26/52\n",
        "P_Black_n_Non_ace = 24/52\n",
        "\n",
        "# Conditional probability calculation\n",
        "P_Non_ace_given_Black = P_Black_n_Non_ace/P_Black\n",
        "\n",
        "print(P_Non_ace_given_Black)"
      ],
      "execution_count": 85,
      "outputs": [
        {
          "output_type": "stream",
          "text": [
            "0.9230769230769231\n"
          ],
          "name": "stdout"
        }
      ]
    },
    {
      "cell_type": "code",
      "metadata": {
        "colab": {
          "base_uri": "https://localhost:8080/"
        },
        "id": "BYnRMsUUkGlM",
        "outputId": "1592997a-023e-4798-df38-b679bdaf7f79"
      },
      "source": [
        "# Individual probabilities\n",
        "P_Non_ace = 48/52\n",
        "P_Non_ace_n_Red = 24/52\n",
        "\n",
        "# Conditional probability calculation\n",
        "P_Red_given_Non_ace = P_Non_ace_n_Red/P_Non_ace\n",
        "\n",
        "print(P_Red_given_Non_ace)\n"
      ],
      "execution_count": 86,
      "outputs": [
        {
          "output_type": "stream",
          "text": [
            "0.5\n"
          ],
          "name": "stdout"
        }
      ]
    },
    {
      "cell_type": "code",
      "metadata": {
        "colab": {
          "base_uri": "https://localhost:8080/"
        },
        "id": "3pFltiFvj7ku",
        "outputId": "dad931f2-8376-443c-b77f-f9ecc72bca93"
      },
      "source": [
        "\n",
        "# Needed probabilities\n",
        "P_Spade = 13/52\n",
        "P_Spade_n_Ace = 1/52\n",
        "\n",
        "# Conditional probability calculation\n",
        "P_Ace_given_Spade = P_Spade_n_Ace / P_Spade\n",
        "\n",
        "print(P_Ace_given_Spade)"
      ],
      "execution_count": 87,
      "outputs": [
        {
          "output_type": "stream",
          "text": [
            "0.07692307692307693\n"
          ],
          "name": "stdout"
        }
      ]
    },
    {
      "cell_type": "code",
      "metadata": {
        "colab": {
          "base_uri": "https://localhost:8080/"
        },
        "id": "Ng87jaiCj7xF",
        "outputId": "08b89291-fe62-4064-b63a-33f667758e02"
      },
      "source": [
        "# Needed probabilities\n",
        "P_Face_card = 12/52\n",
        "P_Face_card_n_Queen = 4/52\n",
        "\n",
        "# Conditional probability calculation\n",
        "P_Queen_given_Face_card = P_Face_card_n_Queen / P_Face_card\n",
        "\n",
        "print(P_Queen_given_Face_card)"
      ],
      "execution_count": 88,
      "outputs": [
        {
          "output_type": "stream",
          "text": [
            "0.3333333333333333\n"
          ],
          "name": "stdout"
        }
      ]
    },
    {
      "cell_type": "code",
      "metadata": {
        "id": "4r-zOEvNl22U"
      },
      "source": [
        "'''P(C)=3/52\n",
        "P(S)=3/52\n",
        "P(H)=3/52\n",
        "P(D)=3/52\n",
        "\n",
        "P(face_card) = SUM(P(cshd)) '''"
      ],
      "execution_count": 89,
      "outputs": []
    },
    {
      "cell_type": "code",
      "metadata": {
        "id": "5_jXyLQXl3Be"
      },
      "source": [
        "'''# total probability law states that prob. of an event in a non overlapping partitioned space\n",
        "# is the sum of the prob. of such event in each partition\n",
        "\n",
        "P(Damage) = P(v1).P(D/v1)+P(v2).p(D/v2)+P(v3).P(D/v3)\n",
        "\n",
        "P(Damage) = 50/100 .(1/100)+ 25/100.(2/100)+ 25/100.(3/100)\n",
        "\n",
        "\n",
        "P(last more than 5000) = .99 * 0.7  + .95 * 0.3\n",
        " '''"
      ],
      "execution_count": null,
      "outputs": []
    },
    {
      "cell_type": "code",
      "metadata": {
        "colab": {
          "base_uri": "https://localhost:8080/"
        },
        "id": "EKQpS9jPg6vr",
        "outputId": "8b6d6c2a-d24a-45ab-c7fd-1c51a84d8b78"
      },
      "source": [
        "# Needed probabilities\n",
        "P_A = 0.7\n",
        "P_last5000_g_A = 0.99\n",
        "P_B = 0.3\n",
        "P_last5000_g_B = 0.95\n",
        "\n",
        "# Total probability calculation\n",
        "P_last_5000 = P_A * P_last5000_g_A + P_B * P_last5000_g_B\n",
        "\n",
        "print(P_last_5000)\n"
      ],
      "execution_count": 90,
      "outputs": [
        {
          "output_type": "stream",
          "text": [
            "0.978\n"
          ],
          "name": "stdout"
        }
      ]
    },
    {
      "cell_type": "code",
      "metadata": {
        "colab": {
          "base_uri": "https://localhost:8080/"
        },
        "id": "DZY59HYQgecv",
        "outputId": "20e03e85-9e33-46d1-a8ab-ab5be1a82460"
      },
      "source": [
        "# Individual probabilities\n",
        "P_X = .43\n",
        "\n",
        "\n",
        "# Conditional probabilities\n",
        "P_Support_g_X = .53\n",
        "\n",
        "# Total probability calculation\n",
        "P_X_n_Support = P_X * P_Support_g_X\n",
        "print(P_X_n_Support)"
      ],
      "execution_count": 91,
      "outputs": [
        {
          "output_type": "stream",
          "text": [
            "0.22790000000000002\n"
          ],
          "name": "stdout"
        }
      ]
    },
    {
      "cell_type": "code",
      "metadata": {
        "id": "NwMDOouefkk-"
      },
      "source": [
        ""
      ],
      "execution_count": null,
      "outputs": []
    },
    {
      "cell_type": "code",
      "metadata": {
        "colab": {
          "base_uri": "https://localhost:8080/"
        },
        "id": "Pn-jGM72et-N",
        "outputId": "69f2f059-fdc7-4a43-b79b-90d44f8e2407"
      },
      "source": [
        "# Individual probabilities\n",
        "P_Z = .32\n",
        "\n",
        "# Conditional probabilities\n",
        "P_Support_g_Z = 0.32\n",
        "P_NoSupport_g_Z = 1 - P_Support_g_Z\n",
        "\n",
        "# Total probability calculation\n",
        "P_Z_n_NoSupport = P_Z * P_NoSupport_g_Z\n",
        "print(P_Z_n_NoSupport)"
      ],
      "execution_count": 93,
      "outputs": [
        {
          "output_type": "stream",
          "text": [
            "0.2176\n"
          ],
          "name": "stdout"
        }
      ]
    },
    {
      "cell_type": "code",
      "metadata": {
        "id": "k0gvj1eIeuIM"
      },
      "source": [
        "# Individual probabilities\n",
        "P_X = .43\n",
        "P_Y = .25\n",
        "P_Z = .32\n",
        "\n",
        "# Conditional probabilities\n",
        "P_Support_g_X = .53\n",
        "P_Support_g_Y = .67\n",
        "P_Support_g_Z = .32"
      ],
      "execution_count": 92,
      "outputs": []
    },
    {
      "cell_type": "code",
      "metadata": {
        "colab": {
          "base_uri": "https://localhost:8080/"
        },
        "id": "QcUkW06YeuSL",
        "outputId": "f705a255-2c8a-4573-c872-0f7da54cef65"
      },
      "source": [
        "# Total probability calculation\n",
        "P_Support = P_X * P_Support_g_X + P_Y * P_Support_g_Y + P_Z * P_Support_g_Z\n",
        "print(P_Support)"
      ],
      "execution_count": 94,
      "outputs": [
        {
          "output_type": "stream",
          "text": [
            "0.4978\n"
          ],
          "name": "stdout"
        }
      ]
    },
    {
      "cell_type": "markdown",
      "metadata": {
        "id": "RF11SyPInAXh"
      },
      "source": [
        "# bayes rule allow us to calculate conditional probabilities\n"
      ]
    },
    {
      "cell_type": "code",
      "metadata": {
        "id": "P8oyO8bEmoOb"
      },
      "source": [
        "''''independent events\n",
        "P(A and B) = P(A) * P(B)\n",
        "dependent events\n",
        "P(A and B) = P(A) * P(B/A)\n",
        "P(A and B) = P(B) * P(A/B) \n",
        "\n",
        "therefore \n",
        "\n",
        "P(A) * P(B/A) = P(B) * P(A/B)\n",
        "\n",
        "bayes rule\n",
        "\n",
        "P(A/B) = [P(A) * P(B/A)]/P(B)\n",
        "\n",
        "\n",
        "\n",
        "'''''"
      ],
      "execution_count": null,
      "outputs": []
    },
    {
      "cell_type": "code",
      "metadata": {
        "id": "aIcSLg8kmoWA"
      },
      "source": [
        "#  bayes rule allow us to calc conditonal prob redcuing our sample space with non overlapping partitions\n",
        "\n",
        " # Individual probabilities & conditional probabilities\n",
        "P_V1 = 0.5\n",
        "P_V2 = 0.25\n",
        "P_V3 = 0.25\n",
        "P_D_g_V1 = 0.01\n",
        "P_D_g_V2 = 0.02\n",
        "P_D_g_V3 = 0.03\n"
      ],
      "execution_count": 95,
      "outputs": []
    },
    {
      "cell_type": "code",
      "metadata": {
        "colab": {
          "base_uri": "https://localhost:8080/"
        },
        "id": "Un0mPy1Qmoah",
        "outputId": "872d83e3-a853-4651-d3c9-bf15eac5722c"
      },
      "source": [
        "# Probability of Damaged\n",
        "P_Damaged = (P_V1 * P_D_g_V1) + (P_V2 * P_D_g_V2) + (P_V3 * P_D_g_V3)\n",
        "\n",
        "# Bayes' rule for P(V1|D)\n",
        "P_V1_g_D = (P_V1 * P_D_g_V1) / P_Damaged\n",
        "\n",
        "print(P_V1_g_D)\n"
      ],
      "execution_count": 96,
      "outputs": [
        {
          "output_type": "stream",
          "text": [
            "0.2857142857142857\n"
          ],
          "name": "stdout"
        }
      ]
    },
    {
      "cell_type": "code",
      "metadata": {
        "id": "UrO3V6jJmofU"
      },
      "source": [
        "# Individual probabilities & conditional probabilities\n",
        "P_V1 = 0.5\n",
        "P_V2 = 0.25\n",
        "P_V3 = 0.25\n",
        "P_D_g_V1 = 0.01\n",
        "P_D_g_V2 = 0.02\n",
        "P_D_g_V3 = 0.03\n",
        "\n",
        "# Probability of Damaged\n",
        "P_Damaged = (P_V1 * P_D_g_V1) + (P_V2 * P_D_g_V2) + (P_V3 * P_D_g_V3)\n"
      ],
      "execution_count": 97,
      "outputs": []
    },
    {
      "cell_type": "code",
      "metadata": {
        "colab": {
          "base_uri": "https://localhost:8080/"
        },
        "id": "aEPCvGPEncUQ",
        "outputId": "f2fa2940-a7e3-4bcd-e58e-aad648cb3ae2"
      },
      "source": [
        "# Bayes' rule for P(V2|D)\n",
        "P_V2_g_D = (P_V2 * P_D_g_V2) / P_Damaged\n",
        "\n",
        "print(P_V2_g_D)"
      ],
      "execution_count": 98,
      "outputs": [
        {
          "output_type": "stream",
          "text": [
            "0.2857142857142857\n"
          ],
          "name": "stdout"
        }
      ]
    },
    {
      "cell_type": "code",
      "metadata": {
        "colab": {
          "base_uri": "https://localhost:8080/"
        },
        "id": "bYMqEXeWnf_t",
        "outputId": "54f69aec-15b1-48b3-be99-39ab7c59bd5a"
      },
      "source": [
        "# Individual probabilities & conditional probabilities\n",
        "P_V1 = 0.5\n",
        "P_V2 = 0.25\n",
        "P_V3 = 0.25\n",
        "P_D_g_V1 = 0.01\n",
        "P_D_g_V2 = 0.02\n",
        "P_D_g_V3 = 0.03\n",
        "\n",
        "# Probability of Damaged\n",
        "P_Damaged = (P_V1 * P_D_g_V1) + (P_V2 * P_D_g_V2) + (P_V3 * P_D_g_V3)\n",
        "\n",
        "# Bayes' rule for P(V3|D)\n",
        "P_V3_g_D = (P_V3 * P_D_g_V3) / P_Damaged\n",
        "\n",
        "print(P_V3_g_D)"
      ],
      "execution_count": 99,
      "outputs": [
        {
          "output_type": "stream",
          "text": [
            "0.4285714285714285\n"
          ],
          "name": "stdout"
        }
      ]
    },
    {
      "cell_type": "code",
      "metadata": {
        "id": "iGjziF6AnrNY"
      },
      "source": [
        "'''p(sf) = 1/9000\n",
        "P(nsf) = 1- P(sf)\n",
        "\n",
        "P(P/sf) = .99\n",
        "P(P/nsf) = .01\n",
        "p(sf)  * P(P/sf) = .99 * 1/9000\n",
        "P(nsf) * P(P/nsf) = .01 * 1-1/9000\n",
        "P(P) = P(sf) + P(nsf)\n",
        "\n",
        "P(sf/p) * P(P) = P(P/sf) * P(sf)\n",
        "P(sf/p) =P(p/sf) * P(sf)/ P(p) '''"
      ],
      "execution_count": null,
      "outputs": []
    },
    {
      "cell_type": "code",
      "metadata": {
        "colab": {
          "base_uri": "https://localhost:8080/"
        },
        "id": "bSz-JJ3NnrXi",
        "outputId": "26285133-b550-4cd1-d001-ad19555de5d3"
      },
      "source": [
        "# Probability of having Swine_flu\n",
        "P_Swine_flu = 1./9000\n",
        "# Probability of not having Swine_flu\n",
        "P_no_Swine_flu = 1 - P_Swine_flu\n",
        "# Probability of being positive given that you have Swine_flu\n",
        "P_Positive_g_Swine_flu = 1\n",
        "# Probability of being positive given that you do not have Swine_flu\n",
        "P_Positive_g_no_Swine_flu = .01 \n",
        "# Probability of Positive\n",
        "P_Positive = (P_Swine_flu * P_Positive_g_Swine_flu) + (P_no_Swine_flu * P_Positive_g_no_Swine_flu)\n",
        "# Bayes' rule for P(Swine_flu|Positive)\n",
        "P_Swine_flu_g_Positive = (P_Positive_g_Swine_flu * P_Swine_flu) / P_Positive\n",
        "\n",
        "print(P_Swine_flu_g_Positive)"
      ],
      "execution_count": 100,
      "outputs": [
        {
          "output_type": "stream",
          "text": [
            "0.010990218705352238\n"
          ],
          "name": "stdout"
        }
      ]
    },
    {
      "cell_type": "markdown",
      "metadata": {
        "id": "ZKY11lLOpFN6"
      },
      "source": [
        "# Normal distribution"
      ]
    },
    {
      "cell_type": "code",
      "metadata": {
        "id": "YXsZUXQrnrZ7"
      },
      "source": [
        "# Normal distribution\n",
        "# it allows us to model many situations\n",
        "# we can use then to model different measures likes size, speed, weight exactly\n",
        "# probability desnsity is a function that assigns relative likelihood to each possible outcome in the sample space\n",
        "\n",
        "# norm.PDF(-1) = 0.24 (as seen in plot)\n",
        "# norm.PDF(0) = 0.39 (As seen in plot)\n",
        "\n",
        "'''\n",
        "therefore 0 is more likely than -1\n",
        "\n",
        " what could be that probality of getting a value btw -1 and 0?\n",
        "\n",
        "we need area under the probability density curve btw -1 and 0\n",
        "\n",
        "norm.CDF(0) - norm.CDF(-1) = 0.34\n",
        "\n",
        "normal distributions are symmetric around the mean ,\n",
        "ie P(value below mean) = P(value above mean)\n",
        "\n",
        "one imp consuquence of symmetry of PDF is mean is the value with highest prob density\n",
        "\n",
        "std dev is the measure of how spread out the prob. density is\n",
        "less std dev = more concentration of prob density around the mean\n",
        "\n",
        "knowing how far the data is from mean in tern=ms of std\n",
        "in a normal distribution\n",
        "0.68 probability is concentrated 1 std dev around the mean\n",
        "0.95 prob is conc. 2 std dev around mean\n",
        "0.997 prob within 3 std dev from mean\n",
        " '''"
      ],
      "execution_count": null,
      "outputs": []
    },
    {
      "cell_type": "code",
      "metadata": {
        "colab": {
          "base_uri": "https://localhost:8080/",
          "height": 319
        },
        "id": "rUB-mhwYpWRu",
        "outputId": "13d2e0b3-cd97-4a64-f855-c9166acee47e"
      },
      "source": [
        "# generate a sample from normal distribution\n",
        "\n",
        "from scipy.stats import norm\n",
        "import matplotlib.pyplot as plt \n",
        "import seaborn as sns \n",
        "sample = norm.rvs(loc=0,scale=1, size =10000, random_state=13)\n",
        "\n",
        "# plot\n",
        "sns.distplot(sample)\n",
        "plt.show()\n"
      ],
      "execution_count": 106,
      "outputs": [
        {
          "output_type": "stream",
          "text": [
            "/usr/local/lib/python3.7/dist-packages/seaborn/distributions.py:2557: FutureWarning: `distplot` is a deprecated function and will be removed in a future version. Please adapt your code to use either `displot` (a figure-level function with similar flexibility) or `histplot` (an axes-level function for histograms).\n",
            "  warnings.warn(msg, FutureWarning)\n"
          ],
          "name": "stderr"
        },
        {
          "output_type": "display_data",
          "data": {
            "image/png": "[encoded data removed]",
            "text/plain": [
              "<Figure size 432x288 with 1 Axes>"
            ]
          },
          "metadata": {
            "tags": [],
            "needs_background": "light"
          }
        }
      ]
    },
    {
      "cell_type": "code",
      "metadata": {
        "colab": {
          "base_uri": "https://localhost:8080/",
          "height": 319
        },
        "id": "HmfW7U_opxhe",
        "outputId": "a0b2618a-65dd-4245-dbad-eb161c981ce7"
      },
      "source": [
        "# Import norm, matplotlib.pyplot, and seaborn\n",
        "from scipy.stats import norm\n",
        "import matplotlib.pyplot as plt\n",
        "import seaborn as sns\n",
        "\n",
        "# Create the sample using norm.rvs()\n",
        "sample = norm.rvs(loc=3.15, scale=1.5, size=10000, random_state=13)\n",
        "\n",
        "# Plot the sample\n",
        "sns.distplot(sample)\n",
        "plt.show()"
      ],
      "execution_count": 107,
      "outputs": [
        {
          "output_type": "stream",
          "text": [
            "/usr/local/lib/python3.7/dist-packages/seaborn/distributions.py:2557: FutureWarning: `distplot` is a deprecated function and will be removed in a future version. Please adapt your code to use either `displot` (a figure-level function with similar flexibility) or `histplot` (an axes-level function for histograms).\n",
            "  warnings.warn(msg, FutureWarning)\n"
          ],
          "name": "stderr"
        },
        {
          "output_type": "display_data",
          "data": {
            "image/png": "[encoded data removed]",
            "text/plain": [
              "<Figure size 432x288 with 1 Axes>"
            ]
          },
          "metadata": {
            "tags": [],
            "needs_background": "light"
          }
        }
      ]
    },
    {
      "cell_type": "code",
      "metadata": {
        "id": "E1D_KmMlnrdG"
      },
      "source": [
        "# calc the prob. density of a given value we use with pdf func\n",
        "\n",
        "from scipy.stats import norm\n",
        "value = -1\n",
        "norm.pdf(-1, loc=0, scale=1) #default\n",
        "'''\n",
        "how to calc prob of getting a value below -1\n",
        "# pdf is a bell shape curve\n",
        "prob density func gives the area of prob of finding a value (less than or greater than a given value)\n",
        "# cdf is a S shapes curve\n",
        "the cdf gives the prob of a value being in the given area(here less than -1)\n",
        "there fore cdf allows us to calc prob of getting a value LESS THAN given x\n",
        "\n",
        "for the area below the curve less than 5, cdf is almost 1\n",
        "\n",
        "how probable it is to get a value less than 0.5, cdf give it as 0.69\n",
        "if we want to know the value where a given prob is accumulated , we use percent point func.\n",
        "norm.ppf(0.2) = -0.8\n",
        "\n",
        "eg: if we want to calc the value or point in normal dist. with a 0.2 prob of occuring \n",
        "we use norm.ppf(0.2)\n",
        "norm.ppf(0.5)= 0 \n",
        "norm.cdf(0) = 0.5\n",
        "cdf is inverse of ppf\n",
        "\n",
        "\n",
        "'''"
      ],
      "execution_count": null,
      "outputs": []
    },
    {
      "cell_type": "code",
      "metadata": {
        "id": "JmBy4n4tnrib"
      },
      "source": [
        "'''finding probability btw 2 values\n",
        "\n",
        "create 2 variables \n",
        "a = -1 and b = 1\n",
        "cal prob. btw 2 values \n",
        "substract norm.cdf(b) - norm.cdf(a)\n",
        "we get 0.68\n",
        "\n",
        "finding tail prob.\n",
        "find the prob of a random variable being greater than a given value a\n",
        "\n",
        "use norm.sf(a)\n",
        "sf : survival func. its a complementof cdf\n",
        "\n",
        "norm.sf(1)=0.15\n",
        "\n",
        "cal. prob of getting a value >-2 and <2\n",
        "\n",
        "add the prob. of each tail using cdf and sf\n",
        "\n",
        "a=-2 , b=2\n",
        "norm.cdf(a) + norm.sf(b)\n",
        "= 0.045\n",
        "there is only 4.5% prob. of a value, being 2 std away from mean\n",
        "\n",
        "tail prob r importnt to study extreme events\n",
        "\n",
        " '''"
      ],
      "execution_count": null,
      "outputs": []
    },
    {
      "cell_type": "code",
      "metadata": {
        "id": "nh3FCqB_nrno"
      },
      "source": [
        "'''# intervals\n",
        "if we want to know where any given prob concentrates,\n",
        "use norm.interval\n",
        "alpha = 0.95\n",
        "calc. interval\n",
        "norm.interval(alpha)\n",
        "\n",
        "we get -1.95 and 1.95 '''"
      ],
      "execution_count": null,
      "outputs": []
    },
    {
      "cell_type": "code",
      "metadata": {
        "colab": {
          "base_uri": "https://localhost:8080/"
        },
        "id": "LhlN6BGsngI-",
        "outputId": "373a4e11-1108-42c5-dda5-5eebaac9ec4e"
      },
      "source": [
        "# Probability of spending $3 or less\n",
        "spending = norm.cdf(3, loc=3.15, scale=1.5)\n",
        "print(spending)\n"
      ],
      "execution_count": 108,
      "outputs": [
        {
          "output_type": "stream",
          "text": [
            "0.46017216272297107\n"
          ],
          "name": "stdout"
        }
      ]
    },
    {
      "cell_type": "code",
      "metadata": {
        "colab": {
          "base_uri": "https://localhost:8080/"
        },
        "id": "NH8vDzjSngOJ",
        "outputId": "5a61c1ec-402c-4c12-d65a-0d45e3969abc"
      },
      "source": [
        "# Probability of spending more than $5\n",
        "spending = norm.sf(5, loc=3.15, scale=1.5)\n",
        "print(spending)\n"
      ],
      "execution_count": 109,
      "outputs": [
        {
          "output_type": "stream",
          "text": [
            "0.10872571321259111\n"
          ],
          "name": "stdout"
        }
      ]
    },
    {
      "cell_type": "code",
      "metadata": {
        "colab": {
          "base_uri": "https://localhost:8080/"
        },
        "id": "6RfWsPIDngUu",
        "outputId": "0e142d4c-ba64-4b30-c8de-8d103d85fff0"
      },
      "source": [
        "# Probability of spending more than $2.15 and $4.15 or less\n",
        "spending_4 = norm.cdf(4.15, loc=3.15, scale=1.5)\n",
        "spending_2 = norm.cdf(2.15, loc=3.15, scale=1.5)\n",
        "print(spending_4 - spending_2)\n",
        "\n"
      ],
      "execution_count": 110,
      "outputs": [
        {
          "output_type": "stream",
          "text": [
            "0.4950149249061543\n"
          ],
          "name": "stdout"
        }
      ]
    },
    {
      "cell_type": "code",
      "metadata": {
        "colab": {
          "base_uri": "https://localhost:8080/"
        },
        "id": "M1FgoTMkrRv3",
        "outputId": "d1e0ff0a-3570-43c9-92c7-62fbe3a12f92"
      },
      "source": [
        "# Probability of spending $2.15 or less or more than $4.15\n",
        "spending_2 = norm.cdf(2.15, loc=3.15, scale=1.5)\n",
        "spending_over_4 = norm.sf(4.15, loc=3.15, scale=1.5) \n",
        "print(spending_2 + spending_over_4)"
      ],
      "execution_count": 111,
      "outputs": [
        {
          "output_type": "stream",
          "text": [
            "0.5049850750938457\n"
          ],
          "name": "stdout"
        }
      ]
    },
    {
      "cell_type": "code",
      "metadata": {
        "colab": {
          "base_uri": "https://localhost:8080/"
        },
        "id": "e_SRkGbvrUyo",
        "outputId": "ef090d80-99a0-490e-88e1-ee279e97d84e"
      },
      "source": [
        "#  Probability that battery will last less than 3 hours\n",
        "less_than_3h = norm.cdf(3, loc=5, scale=1.5)\n",
        "print(less_than_3h)\n",
        "\n"
      ],
      "execution_count": 112,
      "outputs": [
        {
          "output_type": "stream",
          "text": [
            "0.09121121972586788\n"
          ],
          "name": "stdout"
        }
      ]
    },
    {
      "cell_type": "code",
      "metadata": {
        "colab": {
          "base_uri": "https://localhost:8080/"
        },
        "id": "ZxPoZeD9rU5R",
        "outputId": "8c42d1a2-6a65-4183-ae6b-d7f090f44cce"
      },
      "source": [
        "# Probability that battery will last more than 3 hours\n",
        "more_than_3h = norm.sf(3, loc=5, scale=1.5)\n",
        "print(more_than_3h)"
      ],
      "execution_count": 113,
      "outputs": [
        {
          "output_type": "stream",
          "text": [
            "0.9087887802741321\n"
          ],
          "name": "stdout"
        }
      ]
    },
    {
      "cell_type": "code",
      "metadata": {
        "colab": {
          "base_uri": "https://localhost:8080/"
        },
        "id": "RqbcD5GqrY2J",
        "outputId": "4ee85807-e82a-4dfa-a662-7339a4432857"
      },
      "source": [
        "# Probability that battery will last between 5 and 7 hours\n",
        "P_less_than_7h = norm.cdf(7, loc=5, scale=1.5)\n",
        "P_less_than_5h = norm.cdf(5, loc=5, scale=1.5)\n",
        "print(P_less_than_7h - P_less_than_5h)\n",
        "\n"
      ],
      "execution_count": 114,
      "outputs": [
        {
          "output_type": "stream",
          "text": [
            "0.4087887802741321\n"
          ],
          "name": "stdout"
        }
      ]
    },
    {
      "cell_type": "code",
      "metadata": {
        "colab": {
          "base_uri": "https://localhost:8080/"
        },
        "id": "SMVMbVOdrY4e",
        "outputId": "6f02b2f3-1750-403b-ed59-ef71b9e960b1"
      },
      "source": [
        "# Values one standard deviation from mean height for females\n",
        "interval = norm.interval(.68, loc=65, scale=3.5)\n",
        "print(interval)\n"
      ],
      "execution_count": 116,
      "outputs": [
        {
          "output_type": "stream",
          "text": [
            "(61.51939740876586, 68.48060259123413)\n"
          ],
          "name": "stdout"
        }
      ]
    },
    {
      "cell_type": "code",
      "metadata": {
        "colab": {
          "base_uri": "https://localhost:8080/"
        },
        "id": "W4P_js5frhRv",
        "outputId": "bae4d850-d3ee-41b2-94e1-c73bd12f226c"
      },
      "source": [
        "# Value where the tallest males fall with 0.01 probability\n",
        "tallest = norm.ppf(0.99, loc=70, scale=4)\n",
        "print(tallest)"
      ],
      "execution_count": 117,
      "outputs": [
        {
          "output_type": "stream",
          "text": [
            "79.30539149616337\n"
          ],
          "name": "stdout"
        }
      ]
    },
    {
      "cell_type": "code",
      "metadata": {
        "colab": {
          "base_uri": "https://localhost:8080/"
        },
        "id": "2uK3rri0rhUC",
        "outputId": "66bdeb57-8fba-48f4-b157-9791eb99e937"
      },
      "source": [
        "# Probability of being taller than 73 inches for males and females\n",
        "P_taller_male = norm.sf(73, loc=70, scale=4)\n",
        "P_taller_female = norm.sf(73, loc=65, scale=3.5)\n",
        "print(P_taller_male, P_taller_female)\n"
      ],
      "execution_count": 118,
      "outputs": [
        {
          "output_type": "stream",
          "text": [
            "0.2266273523768682 0.011135489479616392\n"
          ],
          "name": "stdout"
        }
      ]
    },
    {
      "cell_type": "code",
      "metadata": {
        "colab": {
          "base_uri": "https://localhost:8080/"
        },
        "id": "PQo5GFKDrnhE",
        "outputId": "11f7f284-b3f5-4d5d-cd84-59f32ae51ff5"
      },
      "source": [
        "# Probability of being shorter than 61 inches for males and females\n",
        "P_shorter_male = norm.cdf(61, loc=70, scale=4)\n",
        "P_shorter_female = norm.cdf(61, loc=65, scale=3.5)\n",
        "print(P_shorter_male, P_shorter_female)"
      ],
      "execution_count": 119,
      "outputs": [
        {
          "output_type": "stream",
          "text": [
            "0.012224472655044696 0.12654895447355774\n"
          ],
          "name": "stdout"
        }
      ]
    },
    {
      "cell_type": "code",
      "metadata": {
        "id": "X8TsnwVjrqWR"
      },
      "source": [
        "'''\n",
        "poisson distribution: probability distribution, that\n",
        "cab model the freq with which an event occurs during a fixed interval of time\n",
        "\n",
        "# eg: the mean num of call center calls per minute is 2.2\n",
        "\n",
        "# what is the prob. of having  3 calls in nay minute?\n",
        "\n",
        "calling a call venter is an ex of poisson process\n",
        "\n",
        "the outcomes r classified as successes or failures\n",
        "\n",
        "and avg num of success events per unit is known\n",
        "\n",
        "a call is success and avg no. of success events per unit : is num of calls per minute\n",
        "'''"
      ],
      "execution_count": null,
      "outputs": []
    },
    {
      "cell_type": "code",
      "metadata": {
        "id": "aoXu4bs6rybS"
      },
      "source": [
        "'''eg: the mean num of call center calls per minute is 2.2\n",
        "\n",
        "what is the prob. of having  3 calls in any minute?\n",
        "\n",
        "we use, pmf and mu , ,mean of the distb.\n",
        "'''"
      ],
      "execution_count": null,
      "outputs": []
    },
    {
      "cell_type": "code",
      "metadata": {
        "colab": {
          "base_uri": "https://localhost:8080/"
        },
        "id": "F7bYHplbr1Y9",
        "outputId": "21500a8a-fc28-4407-ce00-6d67e965939b"
      },
      "source": [
        "from scipy.stats import poisson\n",
        "poisson.pmf(k=3, mu=2.2) \n",
        "\n",
        "# poisson.pmf(k=0, mu = 2.2)"
      ],
      "execution_count": 121,
      "outputs": [
        {
          "output_type": "execute_result",
          "data": {
            "text/plain": [
              "0.19663867170702193"
            ]
          },
          "metadata": {
            "tags": []
          },
          "execution_count": 121
        }
      ]
    },
    {
      "cell_type": "code",
      "metadata": {
        "id": "MR5rQDgzr1fb"
      },
      "source": [
        "'''in poisson distrb. the shape of distb varies,\n",
        "when mean is small , prob( 0 events) is higher\n",
        "as mean increases the curve moves towards right\n"
      ],
      "execution_count": null,
      "outputs": []
    },
    {
      "cell_type": "code",
      "metadata": {
        "colab": {
          "base_uri": "https://localhost:8080/"
        },
        "id": "Uu80HNoKsFf6",
        "outputId": "bcdfbd33-d3de-41f1-d98e-5687ef62d5a3"
      },
      "source": [
        "# cdf \n",
        "# prob of 2 or less calls in a min\n",
        "poisson.cdf(k=2, mu=2.2)"
      ],
      "execution_count": 123,
      "outputs": [
        {
          "output_type": "execute_result",
          "data": {
            "text/plain": [
              "0.6227137499963162"
            ]
          },
          "metadata": {
            "tags": []
          },
          "execution_count": 123
        }
      ]
    },
    {
      "cell_type": "code",
      "metadata": {
        "colab": {
          "base_uri": "https://localhost:8080/"
        },
        "id": "ic1UE6fIsMrN",
        "outputId": "036a099c-8555-4520-a5f8-e8ee920d8d9f"
      },
      "source": [
        "# sf\n",
        "# prob of more than 2 calls per min\n",
        "poisson.sf(k=2, mu=2)\n"
      ],
      "execution_count": 125,
      "outputs": [
        {
          "output_type": "execute_result",
          "data": {
            "text/plain": [
              "0.32332358381693654"
            ]
          },
          "metadata": {
            "tags": []
          },
          "execution_count": 125
        }
      ]
    },
    {
      "cell_type": "code",
      "metadata": {
        "colab": {
          "base_uri": "https://localhost:8080/"
        },
        "id": "jtjmExASsOgs",
        "outputId": "2fb7f297-6bbc-4e39-e160-02e5a5fc996c"
      },
      "source": [
        "# ppf\n",
        "# calc a value where we accumulate a given prob\n",
        "poisson.ppf(q=0.5, mu=2.2)"
      ],
      "execution_count": 126,
      "outputs": [
        {
          "output_type": "execute_result",
          "data": {
            "text/plain": [
              "2.0"
            ]
          },
          "metadata": {
            "tags": []
          },
          "execution_count": 126
        }
      ]
    },
    {
      "cell_type": "code",
      "metadata": {
        "colab": {
          "base_uri": "https://localhost:8080/",
          "height": 319
        },
        "id": "IVQH4zlXsS-J",
        "outputId": "9e66e24d-aa22-4e07-a2f3-9a7fc33b6c88"
      },
      "source": [
        "# sample generattion\n",
        "from scipy.stats import poisson\n",
        "sample = poisson.rvs(mu=2.2, size=10000, random_state =13)\n",
        "\n",
        "sns.distplot(sample, kde=False)\n",
        "plt.show()"
      ],
      "execution_count": 127,
      "outputs": [
        {
          "output_type": "stream",
          "text": [
            "/usr/local/lib/python3.7/dist-packages/seaborn/distributions.py:2557: FutureWarning: `distplot` is a deprecated function and will be removed in a future version. Please adapt your code to use either `displot` (a figure-level function with similar flexibility) or `histplot` (an axes-level function for histograms).\n",
            "  warnings.warn(msg, FutureWarning)\n"
          ],
          "name": "stderr"
        },
        {
          "output_type": "display_data",
          "data": {
            "image/png": "[encoded data removed]",
            "text/plain": [
              "<Figure size 432x288 with 1 Axes>"
            ]
          },
          "metadata": {
            "tags": [],
            "needs_background": "light"
          }
        }
      ]
    },
    {
      "cell_type": "code",
      "metadata": {
        "colab": {
          "base_uri": "https://localhost:8080/"
        },
        "id": "CHaVgktmsZe7",
        "outputId": "baf62de8-b651-448b-f9cf-dc30d1e6f249"
      },
      "source": [
        "# Import poisson from scipy.stats\n",
        "from scipy.stats import poisson\n",
        "\n",
        "# Probability of more than 1 customer\n",
        "probability = poisson.sf(k=1, mu=1)\n",
        "\n",
        "# Print the result\n",
        "print(probability)"
      ],
      "execution_count": 128,
      "outputs": [
        {
          "output_type": "stream",
          "text": [
            "0.2642411176571153\n"
          ],
          "name": "stdout"
        }
      ]
    },
    {
      "cell_type": "code",
      "metadata": {
        "colab": {
          "base_uri": "https://localhost:8080/"
        },
        "id": "O50Jvd-qsZps",
        "outputId": "ba234489-0b59-49da-dc9f-6a7e92b82140"
      },
      "source": [
        "# Import the poisson object\n",
        "from scipy.stats import poisson\n",
        "\n",
        "# Probability of 5 accidents any day\n",
        "P_five_accidents = poisson.pmf(k=5, mu=2)\n",
        "\n",
        "# Print the result\n",
        "print(P_five_accidents)"
      ],
      "execution_count": 129,
      "outputs": [
        {
          "output_type": "stream",
          "text": [
            "0.03608940886309672\n"
          ],
          "name": "stdout"
        }
      ]
    },
    {
      "cell_type": "code",
      "metadata": {
        "colab": {
          "base_uri": "https://localhost:8080/"
        },
        "id": "Hk3N5e3IsdOI",
        "outputId": "de3ac73f-197f-4cd9-950c-fe25ae909523"
      },
      "source": [
        "# Import the poisson object\n",
        "from scipy.stats import poisson\n",
        "\n",
        "# Probability of having 4 or 5 accidents on any day\n",
        "P_less_than_6 = poisson.cdf(k=5, mu=2)\n",
        "P_less_than_4 = poisson.cdf(k=3, mu=2)\n",
        "\n",
        "# Print the result\n",
        "print(P_less_than_6 - P_less_than_4)\n"
      ],
      "execution_count": 130,
      "outputs": [
        {
          "output_type": "stream",
          "text": [
            "0.12631293102083851\n"
          ],
          "name": "stdout"
        }
      ]
    },
    {
      "cell_type": "code",
      "metadata": {
        "colab": {
          "base_uri": "https://localhost:8080/"
        },
        "id": "yngTt1PNsn5h",
        "outputId": "d02ef6a1-5c6d-401d-ff55-8a62a384738e"
      },
      "source": [
        "# Import the poisson object\n",
        "# from scipy.stats import poisson\n",
        "\n",
        "# Probability of more than 3 accidents any day\n",
        "P_more_than_3 = poisson.sf(k=3, mu=2)\n",
        "\n",
        "# Print the result\n",
        "print(P_more_than_3)"
      ],
      "execution_count": 131,
      "outputs": [
        {
          "output_type": "stream",
          "text": [
            "0.14287653950145296\n"
          ],
          "name": "stdout"
        }
      ]
    },
    {
      "cell_type": "code",
      "metadata": {
        "colab": {
          "base_uri": "https://localhost:8080/"
        },
        "id": "LHQGoUXNsqIw",
        "outputId": "e93ace1d-e00e-4deb-9b01-84571550bb59"
      },
      "source": [
        "# Number of accidents with 0.75 probability\n",
        "accidents = poisson.ppf(q=0.75, mu=2)\n",
        "# Print the result\n",
        "print(accidents)"
      ],
      "execution_count": 133,
      "outputs": [
        {
          "output_type": "stream",
          "text": [
            "3.0\n"
          ],
          "name": "stdout"
        }
      ]
    },
    {
      "cell_type": "code",
      "metadata": {
        "colab": {
          "base_uri": "https://localhost:8080/",
          "height": 319
        },
        "id": "w-aduy87sx-D",
        "outputId": "82ced259-394b-4188-f1bb-c12669a20ff3"
      },
      "source": [
        "# Create the sample\n",
        "sample = poisson.rvs(mu=2, size=10000, random_state=13)\n",
        "\n",
        "# Plot the sample\n",
        "sns.distplot(sample, kde=False)\n",
        "plt.show()"
      ],
      "execution_count": 134,
      "outputs": [
        {
          "output_type": "stream",
          "text": [
            "/usr/local/lib/python3.7/dist-packages/seaborn/distributions.py:2557: FutureWarning: `distplot` is a deprecated function and will be removed in a future version. Please adapt your code to use either `displot` (a figure-level function with similar flexibility) or `histplot` (an axes-level function for histograms).\n",
            "  warnings.warn(msg, FutureWarning)\n"
          ],
          "name": "stderr"
        },
        {
          "output_type": "display_data",
          "data": {
            "image/png": "[encoded data removed]",
            "text/plain": [
              "<Figure size 432x288 with 1 Axes>"
            ]
          },
          "metadata": {
            "tags": [],
            "needs_background": "light"
          }
        }
      ]
    },
    {
      "cell_type": "code",
      "metadata": {
        "id": "duazcaA5sy1d"
      },
      "source": [
        "'''\n",
        "# geometric distribution\n",
        "\n",
        "# we have seen how binomial distrb is used to model a series of expermnt woth succes or failure outcomes\n",
        "\n",
        "with geometric distrib we model a series of failed outcomes until we obtain a successful one\n",
        "\n",
        "eg: a basketball b=player has 0.3 prob of scoring a free throw, what is the probability of missing the 1st throw and scoring 2nd\n",
        "\n",
        "with GPd we study the prob. of trying until we succeed\n",
        "\n",
        "\n",
        "GD allows us to calc. the prob of success after k trial , given the prob. of success for each trial\n",
        "\n",
        "\n",
        "what is the prob. that a geom rv is equal to a given value\n",
        "\n",
        "for that we use pmf and specify p - prob. of success\n",
        "\n",
        "# pmf\n",
        "# what is the prob. that a bear catches salmon after 29 consecutive failed attempts, with a prob of success of 0.03\n",
        "\n",
        "\n",
        "''''"
      ],
      "execution_count": null,
      "outputs": []
    },
    {
      "cell_type": "code",
      "metadata": {
        "colab": {
          "base_uri": "https://localhost:8080/"
        },
        "id": "fMly5hf4s8kB",
        "outputId": "8ab0535f-52de-4dc0-dfa6-d59523ff904a"
      },
      "source": [
        "from scipy.stats import geom\n",
        "# calc. pmf\n",
        "geom.pmf(k=30, p=0.033)\n",
        "# =0.02455 or 2% chance of being successful in 30th attempts\n",
        "\n"
      ],
      "execution_count": 135,
      "outputs": [
        {
          "output_type": "execute_result",
          "data": {
            "text/plain": [
              "0.012470437448265722"
            ]
          },
          "metadata": {
            "tags": []
          },
          "execution_count": 135
        }
      ]
    },
    {
      "cell_type": "code",
      "metadata": {
        "colab": {
          "base_uri": "https://localhost:8080/"
        },
        "id": "AEgrBjoCs8tU",
        "outputId": "06ea928d-e780-4250-e815-5e3e28f460ae"
      },
      "source": [
        "\n",
        "# cdf\n",
        "# what is the prob. of a basketball player scoring a free throw in 4 or fewer attempts?\n",
        "\n",
        "geom.cdf(k=4, p=0.3)"
      ],
      "execution_count": 136,
      "outputs": [
        {
          "output_type": "execute_result",
          "data": {
            "text/plain": [
              "0.7599"
            ]
          },
          "metadata": {
            "tags": []
          },
          "execution_count": 136
        }
      ]
    },
    {
      "cell_type": "code",
      "metadata": {
        "colab": {
          "base_uri": "https://localhost:8080/"
        },
        "id": "i1czFetntDwU",
        "outputId": "7214c788-99e6-448c-c92b-3bb4c893f2ec"
      },
      "source": [
        "# sf\n",
        "# prob of player to score a free throw in 2 or more throws\n",
        "\n",
        "geom.sf(k=2, p=0.3)"
      ],
      "execution_count": 138,
      "outputs": [
        {
          "output_type": "execute_result",
          "data": {
            "text/plain": [
              "0.49000000000000005"
            ]
          },
          "metadata": {
            "tags": []
          },
          "execution_count": 138
        }
      ]
    },
    {
      "cell_type": "code",
      "metadata": {
        "colab": {
          "base_uri": "https://localhost:8080/",
          "height": 319
        },
        "id": "k-L7i9Fss8vy",
        "outputId": "f8ae7f12-92f4-43ef-c3a8-db1a0379f58c"
      },
      "source": [
        "# want a value where you accumulate a given prob., \n",
        "# use percent point func.\n",
        "# for 0.6 prob. we get a value of 3\n",
        "#  therefore in 3 attempts we accumulate the value of 0.6 prob.\n",
        "\n",
        "\n",
        "# sample gen\n",
        "# 10k samples of attempts with prob of success for each attempt of 0.3\n",
        "\n",
        "geom.rvs(p=0.3, size=10000, random_state = 13)\n",
        "\n",
        "\n",
        "sns.distplot(sample, bins = np.linspace(0,20,21), kde=False)\n",
        "\n",
        "plt.show()\n"
      ],
      "execution_count": 139,
      "outputs": [
        {
          "output_type": "stream",
          "text": [
            "/usr/local/lib/python3.7/dist-packages/seaborn/distributions.py:2557: FutureWarning: `distplot` is a deprecated function and will be removed in a future version. Please adapt your code to use either `displot` (a figure-level function with similar flexibility) or `histplot` (an axes-level function for histograms).\n",
            "  warnings.warn(msg, FutureWarning)\n"
          ],
          "name": "stderr"
        },
        {
          "output_type": "display_data",
          "data": {
            "image/png": "[encoded data removed]",
            "text/plain": [
              "<Figure size 432x288 with 1 Axes>"
            ]
          },
          "metadata": {
            "tags": [],
            "needs_background": "light"
          }
        }
      ]
    },
    {
      "cell_type": "code",
      "metadata": {
        "colab": {
          "base_uri": "https://localhost:8080/"
        },
        "id": "ylIAms66s8zG",
        "outputId": "933b542e-b51c-486e-f44e-dde29258a90b"
      },
      "source": [
        "# Getting a salmon on the third attempt\n",
        "probability = geom.pmf(k=3, p=0.0333)\n",
        "\n",
        "# Print the result\n",
        "print(probability)\n",
        "\n",
        "# Probability of getting a salmon in less than 5 attempts\n",
        "probability = geom.cdf(k=5, p=0.0333)\n",
        "\n",
        "# Print the result\n",
        "print(probability)\n",
        "# Probability of getting a salmon in less than 5 attempts\n",
        "probability = geom.cdf(k=4, p=0.0333)\n",
        "\n",
        "# Print the result\n",
        "print(probability)\n",
        "\n",
        "# Probability of getting a salmon in less than 21 attempts\n",
        "probability = geom.cdf(k=20, p=0.0333)\n",
        "\n",
        "# Print the result\n",
        "print(probability)"
      ],
      "execution_count": 141,
      "outputs": [
        {
          "output_type": "stream",
          "text": [
            "0.031119146037000004\n",
            "0.15577425313175267\n",
            "0.12669313451096792\n",
            "0.4920343187252892\n"
          ],
          "name": "stdout"
        }
      ]
    },
    {
      "cell_type": "code",
      "metadata": {
        "colab": {
          "base_uri": "https://localhost:8080/"
        },
        "id": "vP1dw6LStZx7",
        "outputId": "67970fad-49ae-41e3-950d-1a1700d21e78"
      },
      "source": [
        "# Attempts for 0.9 probability of catching a salmon\n",
        "attempts = geom.ppf(q=0.9, p=0.0333)\n",
        "\n",
        "# Print the result\n",
        "print(attempts)"
      ],
      "execution_count": 142,
      "outputs": [
        {
          "output_type": "stream",
          "text": [
            "68.0\n"
          ],
          "name": "stdout"
        }
      ]
    },
    {
      "cell_type": "code",
      "metadata": {
        "colab": {
          "base_uri": "https://localhost:8080/"
        },
        "id": "BD2SwvSjtb37",
        "outputId": "24df6455-c23d-40d9-999f-e29d92c77048"
      },
      "source": [
        "# Import geom from scipy.stats\n",
        "from scipy.stats import geom\n",
        "\n",
        "# Probability of missing first and scoring on second throw\n",
        "probability = geom.pmf(k=2, p=0.3)\n",
        "\n",
        "# Print the result\n",
        "print(probability)"
      ],
      "execution_count": 143,
      "outputs": [
        {
          "output_type": "stream",
          "text": [
            "0.21\n"
          ],
          "name": "stdout"
        }
      ]
    },
    {
      "cell_type": "code",
      "metadata": {
        "colab": {
          "base_uri": "https://localhost:8080/",
          "height": 319
        },
        "id": "Y5CGZrC1tjWD",
        "outputId": "92bb622e-3f4b-4881-a5e3-7aedf79d2f6d"
      },
      "source": [
        "# Create the sample\n",
        "sample = geom.rvs(p=0.3, size=10000, random_state=13)\n",
        "\n",
        "# Plot the sample\n",
        "sns.distplot(sample, bins = np.linspace(0,20,21), kde=False)\n",
        "plt.show()\n"
      ],
      "execution_count": 144,
      "outputs": [
        {
          "output_type": "stream",
          "text": [
            "/usr/local/lib/python3.7/dist-packages/seaborn/distributions.py:2557: FutureWarning: `distplot` is a deprecated function and will be removed in a future version. Please adapt your code to use either `displot` (a figure-level function with similar flexibility) or `histplot` (an axes-level function for histograms).\n",
            "  warnings.warn(msg, FutureWarning)\n"
          ],
          "name": "stderr"
        },
        {
          "output_type": "display_data",
          "data": {
            "image/png": "[encoded data removed]",
            "text/plain": [
              "<Figure size 432x288 with 1 Axes>"
            ]
          },
          "metadata": {
            "tags": [],
            "needs_background": "light"
          }
        }
      ]
    },
    {
      "cell_type": "code",
      "metadata": {
        "id": "0_Sj62RTtkLR"
      },
      "source": [
        "# from sample mean to poply=ulation mean\n",
        "\"\"\"\n",
        "some patterns we observe in sample mean when the sample size becomes larger\n",
        "\n",
        "these patterns forms the basis of law of large numbers\n",
        "\n",
        "* sample mean approaches the expected value as the sample size increases\n",
        "\n",
        "\"\"\""
      ],
      "execution_count": null,
      "outputs": []
    },
    {
      "cell_type": "code",
      "metadata": {
        "colab": {
          "base_uri": "https://localhost:8080/"
        },
        "id": "TLuvazuVtrlu",
        "outputId": "360f56b7-c214-4a40-e014-52ebb543d50f"
      },
      "source": [
        "# sample mean.. xnbar = x1 + x2 +.. xn/n   ----> E(X) population mean\n",
        "\n",
        "# gen sample of a coin flip\n",
        "\n",
        "from scipy.stats import binom\n",
        "from scipy.stats import describe\n",
        "# ...sample of 250 fair coin flips\n",
        "sample = binom.rvs(n=1, p=0.5, size=250, random_state=42)\n",
        "print(sample[0:100])\n",
        "\n",
        "# calc sample mean\n",
        "print(describe(sample[0:10]).mean)\n",
        "\n"
      ],
      "execution_count": 148,
      "outputs": [
        {
          "output_type": "stream",
          "text": [
            "[0 1 1 1 0 0 0 1 1 1 0 1 1 0 0 0 0 1 0 0 1 0 0 0 0 1 0 1 1 0 1 0 0 1 1 1 0\n",
            " 0 1 0 0 0 0 1 0 1 0 1 1 0 1 1 1 1 1 1 0 0 0 0 0 0 1 0 0 1 0 1 0 1 1 0 0 1\n",
            " 1 1 1 0 0 0 1 1 0 0 0 0 1 1 1 0 0 1 1 1 1 0 1 0 0 0]\n",
            "0.6\n"
          ],
          "name": "stdout"
        }
      ]
    },
    {
      "cell_type": "code",
      "metadata": {
        "id": "WzOzzsWmt7Vr"
      },
      "source": [
        "# plotting sample mean\n",
        "\n",
        "from scipy.stats import binom, describe\n",
        "import matplotlib.pyplot as plt\n",
        "\n",
        "# define varible\n",
        "coin_flips, p, sample_size, averages=1, 0.5, 1000, []\n",
        "\n",
        "\n",
        "# generate sample\n",
        "samples= binom.rvs(n=coin_flips, p=p, size=sample_size, random_state=42)\n"
      ],
      "execution_count": 149,
      "outputs": []
    },
    {
      "cell_type": "code",
      "metadata": {
        "colab": {
          "base_uri": "https://localhost:8080/",
          "height": 282
        },
        "id": "6lA98f7nuOwl",
        "outputId": "c1f7205e-652d-4aa6-aef0-5728555281c8"
      },
      "source": [
        "# cal. sample mean\n",
        "averages = []\n",
        "for i in range(2, sample_size+1):\n",
        "\taverages.append(describe(samples[0:i]).mean)\n",
        "# print first values of averages\n",
        "print(averages[0:10])\n",
        "\n",
        "# add the population mean line and sample mean plot\n",
        "plt.axhline(binom.mean(n=coin_flips, p=p), color='red')\n",
        "plt.plot(averages, '-')\n",
        "# add legend\n",
        "plt.legend(('Population mean', 'sample mean'), loc='upper right')\n",
        "plt.show()\n"
      ],
      "execution_count": 154,
      "outputs": [
        {
          "output_type": "stream",
          "text": [
            "[0.5, 0.6666666666666666, 0.75, 0.6, 0.5, 0.42857142857142855, 0.5, 0.5555555555555556, 0.6, 0.5454545454545454]\n"
          ],
          "name": "stdout"
        },
        {
          "output_type": "display_data",
          "data": {
            "image/png": "[encoded data removed]",
            "text/plain": [
              "<Figure size 432x288 with 1 Axes>"
            ]
          },
          "metadata": {
            "tags": [],
            "needs_background": "light"
          }
        }
      ]
    },
    {
      "cell_type": "code",
      "metadata": {
        "colab": {
          "base_uri": "https://localhost:8080/"
        },
        "id": "uPMCZ0wPuzv0",
        "outputId": "21a5bdd1-dae6-44fa-b297-505c167c9fd1"
      },
      "source": [
        "\n",
        "# Generate a sample of 250 newborn children\n",
        "sample = binom.rvs(n=1, p=.505, size=250, random_state=42)\n",
        "\n",
        "# Show the sample values\n",
        "print(sample)\n",
        "\n",
        "# Print the sample mean of the first 10 samples\n",
        "print(describe(sample[0:10]).mean)\n"
      ],
      "execution_count": 155,
      "outputs": [
        {
          "output_type": "stream",
          "text": [
            "[1 0 0 0 1 1 1 0 0 0 1 0 0 1 1 1 1 0 1 1 0 1 1 1 1 0 1 0 0 1 0 1 1 0 0 0 1\n",
            " 1 0 1 1 1 1 0 1 0 1 0 0 1 0 0 0 0 0 0 1 1 1 1 1 1 0 1 1 0 1 0 1 0 0 1 1 0\n",
            " 0 0 0 1 1 1 0 0 1 1 1 1 0 0 0 1 1 0 0 0 0 1 0 1 1 1 1 0 1 0 0 1 1 0 1 1 1\n",
            " 1 0 0 0 0 0 1 0 0 0 0 1 1 1 1 0 0 1 0 1 1 1 1 0 1 0 0 1 0 0 1 1 1 1 1 0 1\n",
            " 1 1 0 1 1 1 0 1 0 0 1 0 1 0 0 0 1 0 1 1 1 0 0 1 0 1 0 1 0 1 0 1 1 1 0 0 1\n",
            " 0 0 0 0 1 1 0 0 0 1 1 0 0 0 0 0 1 1 0 0 1 1 0 1 1 0 0 0 1 0 1 1 0 0 0 0 0\n",
            " 1 1 1 1 0 1 0 0 0 1 0 1 1 0 1 1 0 1 0 0 0 1 1 0 1 0 0 0]\n",
            "0.4\n"
          ],
          "name": "stdout"
        }
      ]
    },
    {
      "cell_type": "code",
      "metadata": {
        "id": "2C7Pcy7uu4Zq"
      },
      "source": [
        "\n",
        "# Calculate sample mean and store it on averages array\n",
        "averages = []\n",
        "for i in range(2, 251):\n",
        "    averages.append(describe(sample[0:i]).mean)"
      ],
      "execution_count": 156,
      "outputs": []
    },
    {
      "cell_type": "code",
      "metadata": {
        "colab": {
          "base_uri": "https://localhost:8080/",
          "height": 265
        },
        "id": "Kv8rrMxfu7j0",
        "outputId": "004b1834-8d24-44dc-ad30-4b9809dceba6"
      },
      "source": [
        "# Calculate sample mean and store it on averages array\n",
        "averages = []\n",
        "for i in range(2, 251):\n",
        "    averages.append(describe(sample[0:i]).mean)\n",
        "\n",
        "# Add population mean line and sample mean plot\n",
        "plt.axhline(binom.mean(n=1, p=0.505), color='red')\n",
        "plt.plot(averages, '-')\n",
        "\n",
        "# Add legend\n",
        "plt.legend((\"Population mean\",\"Sample mean\"), loc='upper right')\n",
        "plt.show()"
      ],
      "execution_count": 157,
      "outputs": [
        {
          "output_type": "display_data",
          "data": {
            "image/png": "[encoded data removed]",
            "text/plain": [
              "<Figure size 432x288 with 1 Axes>"
            ]
          },
          "metadata": {
            "tags": [],
            "needs_background": "light"
          }
        }
      ]
    },
    {
      "cell_type": "code",
      "metadata": {
        "id": "8Ou3i5VxvDUi"
      },
      "source": [
        "'''\n",
        "CLT: ceneral limit theorem(most imp results of probability and stats)\n",
        "\n",
        "the sum of random variables tends to a normal distrib. \n",
        "as the num of them grows to infinity\n",
        "\n",
        "\n",
        "conditions: \n",
        "the variables must have the same distrib, \n",
        "the variables must be independent(when the outcome of one doesnot effect the outcome of other)\n",
        "\n",
        "\n",
        "we can add binomial, geometric or even poisson RV and get the sample mean,\n",
        "as we add more .. we get a normal distrib\n",
        "\n",
        "\n",
        "ex: as we calc more sample mean, the distribution of sample mean tend to normal distrib.\n",
        "and the mean of the sample mean distrb. is equivalent to the population mean\n",
        "\n",
        " ''''"
      ],
      "execution_count": null,
      "outputs": []
    },
    {
      "cell_type": "code",
      "metadata": {
        "colab": {
          "base_uri": "https://localhost:8080/",
          "height": 265
        },
        "id": "_aCfLhHAvHYw",
        "outputId": "0ec1954b-a493-4d3a-c773-9938447899a0"
      },
      "source": [
        "from scipy.stats import poisson, describe\n",
        "\n",
        "# generate the population\n",
        "population = poisson.rvs(mu=2,size=1000, random_state=20)\n",
        "\n",
        "# hist of population\n",
        "plt.hist(population, bins=range(9), width=0.8)\n",
        "plt.show()"
      ],
      "execution_count": 158,
      "outputs": [
        {
          "output_type": "display_data",
          "data": {
            "image/png": "[encoded data removed]",
            "text/plain": [
              "<Figure size 432x288 with 1 Axes>"
            ]
          },
          "metadata": {
            "tags": [],
            "needs_background": "light"
          }
        }
      ]
    },
    {
      "cell_type": "code",
      "metadata": {
        "colab": {
          "base_uri": "https://localhost:8080/",
          "height": 295
        },
        "id": "2FoBNKkMvMnA",
        "outputId": "b2bfc970-512f-4c3f-b196-19fa4dcc1418"
      },
      "source": [
        "# plot sample mean\n",
        "\n",
        "# define list of sample means\n",
        "sample_mean = []\n",
        "for _ in range(350):\n",
        "\t# select 10 from population\n",
        "\tsample = np.random.choice(population, 10)\n",
        "\t# calc sampl mean\n",
        "\tsample_mean.append(describe(sample).mean)\n",
        "\n",
        "# draw histogram with labels\n",
        "\n",
        "plt.xlabel('sample mean value')\n",
        "plt.ylabel('freq')\n",
        "plt.title('sample means histogram')\n",
        "plt.hist(sample_mean)\n",
        "plt.show()"
      ],
      "execution_count": 159,
      "outputs": [
        {
          "output_type": "display_data",
          "data": {
            "image/png": "[encoded data removed]",
            "text/plain": [
              "<Figure size 432x288 with 1 Axes>"
            ]
          },
          "metadata": {
            "tags": [],
            "needs_background": "light"
          }
        }
      ]
    },
    {
      "cell_type": "code",
      "metadata": {
        "id": "8Di8rzHcvOSD"
      },
      "source": [
        "# Create list for sample means\n",
        "sample_means = []\n",
        "for _ in range(1500):\n",
        "\t# Take 20 values from the population\n",
        "    sample = np.random.choice(population, 20)"
      ],
      "execution_count": 160,
      "outputs": []
    },
    {
      "cell_type": "code",
      "metadata": {
        "id": "nEKKY7kbvOh9"
      },
      "source": [
        "# Create list for sample means\n",
        "sample_means = []\n",
        "for _ in range(1500):\n",
        "\t# Take 20 values from the population\n",
        "    sample = np.random.choice(population, 20)\n",
        "    # Calculate the sample mean\n",
        "    sample_means.append(describe(sample).mean)\n"
      ],
      "execution_count": 161,
      "outputs": []
    },
    {
      "cell_type": "code",
      "metadata": {
        "colab": {
          "base_uri": "https://localhost:8080/",
          "height": 316
        },
        "id": "hN_iPKyDvWeY",
        "outputId": "d1fe5664-7bf4-4f88-ca57-7cb1786a15b4"
      },
      "source": [
        "# Plot the histogram\n",
        "plt.hist(sample_means)\n"
      ],
      "execution_count": 162,
      "outputs": [
        {
          "output_type": "execute_result",
          "data": {
            "text/plain": [
              "(array([ 14.,  55., 255., 331., 269., 343., 110.,  86.,  34.,   3.]),\n",
              " array([1.1, 1.3, 1.5, 1.7, 1.9, 2.1, 2.3, 2.5, 2.7, 2.9, 3.1]),\n",
              " <a list of 10 Patch objects>)"
            ]
          },
          "metadata": {
            "tags": []
          },
          "execution_count": 162
        },
        {
          "output_type": "display_data",
          "data": {
            "image/png": "[encoded data removed]",
            "text/plain": [
              "<Figure size 432x288 with 1 Axes>"
            ]
          },
          "metadata": {
            "tags": [],
            "needs_background": "light"
          }
        }
      ]
    },
    {
      "cell_type": "code",
      "metadata": {
        "colab": {
          "base_uri": "https://localhost:8080/",
          "height": 265
        },
        "id": "uik9aPDCvZmQ",
        "outputId": "f5c7ffeb-0b2c-447e-f378-38b8773fe0ee"
      },
      "source": [
        "# Generate the population\n",
        "population = geom.rvs(p=0.5, size=1000)\n",
        "\n",
        "# Create list for sample means\n",
        "sample_means = []\n",
        "for _ in range(3000):\n",
        "\t# Take 20 values from the population\n",
        "    sample = np.random.choice(population, 20)\n",
        "    # Calculate the sample mean\n",
        "    sample_means.append(describe(sample).mean)\n",
        "\n",
        "# Plot the histogram\n",
        "plt.hist(sample_means)\n",
        "plt.show()"
      ],
      "execution_count": 163,
      "outputs": [
        {
          "output_type": "display_data",
          "data": {
            "image/png": "[encoded data removed]",
            "text/plain": [
              "<Figure size 432x288 with 1 Axes>"
            ]
          },
          "metadata": {
            "tags": [],
            "needs_background": "light"
          }
        }
      ]
    },
    {
      "cell_type": "code",
      "metadata": {
        "colab": {
          "base_uri": "https://localhost:8080/",
          "height": 265
        },
        "id": "29PM0Zq7vdwR",
        "outputId": "71a2741a-cc8a-4c10-8836-414657ede6aa"
      },
      "source": [
        "#  Generate the population\n",
        "population = poisson.rvs(mu=2, size=1000)\n",
        "\n",
        "# Create list for sample means\n",
        "sample_means = []\n",
        "for _ in range(1500):\n",
        "\t# Take 20 values from the population\n",
        "    sample = np.random.choice(population, 20)\n",
        "    # Calculate the sample mean\n",
        "    sample_means.append(describe(sample).mean)\n",
        "\n",
        "# Plot the histogram\n",
        "plt.hist(sample_means)\n",
        "plt.show()"
      ],
      "execution_count": 164,
      "outputs": [
        {
          "output_type": "display_data",
          "data": {
            "image/png": "[encoded data removed]",
            "text/plain": [
              "<Figure size 432x288 with 1 Axes>"
            ]
          },
          "metadata": {
            "tags": [],
            "needs_background": "light"
          }
        }
      ]
    },
    {
      "cell_type": "code",
      "metadata": {
        "id": "D7-6SxCr08LN"
      },
      "source": [
        "import numpy as np\n",
        "from scipy.stats import poisson, describe\n",
        "import matplotlib.pyplot as plt\n"
      ],
      "execution_count": 16,
      "outputs": []
    },
    {
      "cell_type": "code",
      "metadata": {
        "id": "V9eN_GM_EBQZ"
      },
      "source": [
        "population = poisson.rvs(mu=2, size=1000)"
      ],
      "execution_count": 4,
      "outputs": []
    },
    {
      "cell_type": "code",
      "metadata": {
        "id": "sYuN4VJ2u_w7"
      },
      "source": [
        "def roll_dice(n):\n",
        "  sample_means = []\n",
        "  for _ in range(n):\n",
        "\n",
        "\t# Take n values from the population  \n",
        "    sample = np.random.choice(population, 20)\n",
        "  # Calculate the sample mean\n",
        "    sample_means.append(sample)\n",
        "    return sample_means\n",
        "\n"
      ],
      "execution_count": 12,
      "outputs": []
    },
    {
      "cell_type": "code",
      "metadata": {
        "id": "MMRgy1kyDPpr"
      },
      "source": [
        "x = roll_dice(10)"
      ],
      "execution_count": 13,
      "outputs": []
    },
    {
      "cell_type": "code",
      "metadata": {
        "colab": {
          "base_uri": "https://localhost:8080/"
        },
        "id": "04VZ9MNHEZqL",
        "outputId": "db07accc-c88b-4ab2-f8d0-4d22d6a83856"
      },
      "source": [
        "print(x)\n"
      ],
      "execution_count": 14,
      "outputs": [
        {
          "output_type": "stream",
          "text": [
            "[array([1, 3, 3, 2, 5, 1, 1, 3, 3, 2, 2, 5, 4, 0, 4, 1, 2, 2, 1, 1])]\n"
          ],
          "name": "stdout"
        }
      ]
    },
    {
      "cell_type": "code",
      "metadata": {
        "colab": {
          "base_uri": "https://localhost:8080/",
          "height": 265
        },
        "id": "lY1vb87Kvipx",
        "outputId": "b980ebc1-7cc9-421c-9c35-f49b1c955fc6"
      },
      "source": [
        "# Configure random generator\n",
        "np.random.seed(42)\n",
        "\n",
        "# Generate the sample\n",
        "sample1 = roll_dice(2000)\n",
        "\n",
        "# Plot the sample\n",
        "plt.hist(sample1, bins=range(1, 8), width=0.9)\n",
        "plt.show()  \n"
      ],
      "execution_count": 17,
      "outputs": [
        {
          "output_type": "display_data",
          "data": {
            "image/png": "[encoded data removed]",
            "text/plain": [
              "<Figure size 432x288 with 1 Axes>"
            ]
          },
          "metadata": {
            "tags": [],
            "needs_background": "light"
          }
        }
      ]
    },
    {
      "cell_type": "code",
      "metadata": {
        "colab": {
          "base_uri": "https://localhost:8080/",
          "height": 265
        },
        "id": "QMSboX-AviyF",
        "outputId": "111fbdee-23f6-434c-f59e-9bcad52cde58"
      },
      "source": [
        "# Configure random generator\n",
        "np.random.seed(42)\n",
        "\n",
        "# Generate two samples of 2000 dice rolls\n",
        "sample1 = roll_dice(2000)\n",
        "sample2 = roll_dice(2000)\n",
        "\n",
        "# Add the first two samples\n",
        "sum_of_1_and_2 = np.add(sample1, sample2)\n",
        "\n",
        "# Plot the sum\n",
        "plt.hist(sum_of_1_and_2, bins=range(2, 14), width=0.9)\n",
        "plt.show()"
      ],
      "execution_count": 18,
      "outputs": [
        {
          "output_type": "display_data",
          "data": {
            "image/png": "[encoded data removed]",
            "text/plain": [
              "<Figure size 432x288 with 1 Axes>"
            ]
          },
          "metadata": {
            "tags": [],
            "needs_background": "light"
          }
        }
      ]
    },
    {
      "cell_type": "code",
      "metadata": {
        "colab": {
          "base_uri": "https://localhost:8080/",
          "height": 265
        },
        "id": "Da_zOdpRv8lW",
        "outputId": "5fb15884-d3fb-496c-dabf-44e75e05b824"
      },
      "source": [
        "# Configure random generator\n",
        "np.random.seed(42)\n",
        "\n",
        "# Generate the samples\n",
        "sample1 = roll_dice(2000)\n",
        "sample2 = roll_dice(2000)\n",
        "sample3 = roll_dice(2000)\n",
        "\n",
        "# Add the first two samples\n",
        "sum_of_1_and_2 = np.add(sample1, sample2)\n",
        "\n",
        "# Add the first two with the third sample\n",
        "sum_of_3_samples = np.add(sum_of_1_and_2, sample3)\n",
        "\n",
        "# Plot the result\n",
        "plt.hist(sum_of_3_samples, bins=range(3, 20), width=0.9)\n",
        "plt.show() \n",
        "# clt states that the sum of equally distributed random variables converges to a normal distrib.\n"
      ],
      "execution_count": 19,
      "outputs": [
        {
          "output_type": "display_data",
          "data": {
            "image/png": "[encoded data removed]",
            "text/plain": [
              "<Figure size 432x288 with 1 Axes>"
            ]
          },
          "metadata": {
            "tags": [],
            "needs_background": "light"
          }
        }
      ]
    },
    {
      "cell_type": "code",
      "metadata": {
        "id": "YySY-mXFwGhd"
      },
      "source": [
        "'''\n",
        "# applications of prob and stats in data science \n",
        "# linear reg and logistic reg\n",
        "# \n",
        "\n",
        "linear func is a constant relationship btw an independent variable and a dependent variable\n",
        "represented by a line\n",
        "\n",
        "relationship is expressed with 2 parameters\n",
        "slope and interecept\n",
        "\n",
        "when a random no. is add to the value of func. the relationshipis not linear anymore\n",
        "\n",
        "to build a linear model on the data, we calc residuals\n",
        "which is the diffrence btw the data points and the linear regression model\n",
        "\n",
        "we can look for slope and intervals which minimises the sum of the residuals\n",
        "\n",
        "ie look for model parameters that minimises distance btw model n data\n",
        "\n",
        "\n",
        "an interesting link btw prob n linear model is to apply this model to data \n",
        "we must study the distrb of residuals and its variance\n",
        "\n",
        "the distrb of residuals should be normal with constant variance\n",
        "\n",
        "otherwise the linear model is not a good fit \n",
        "\n",
        "\n",
        "'''"
      ],
      "execution_count": null,
      "outputs": []
    },
    {
      "cell_type": "code",
      "metadata": {
        "id": "sZ55p4UJs9Dc"
      },
      "source": [
        ""
      ],
      "execution_count": null,
      "outputs": []
    }
  ]
}